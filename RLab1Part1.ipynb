{
 "cells": [
  {
   "cell_type": "code",
   "execution_count": 2,
   "metadata": {
    "collapsed": false
   },
   "outputs": [
    {
     "name": "stdout",
     "output_type": "stream",
     "text": [
      "[1] \"Using direct authentication\"\n"
     ]
    }
   ],
   "source": [
    "library(twitteR)\n",
    "setup_twitter_oauth(\"FHlYnTq8c47N1553KDVm92Nbd\",\"MT0DdF9cfoBUWdx6TJbgBTde5MqR2iKth8fKMq52fwY55ifxmo\",\"771914996603379712-4CbtyfbOlsYxruMjYjZaQyOyErafznU\",\"ofkk5doXlKED3nPZJyQ2veY4etU7s1ILYihWM0Pe1GZE0\")"
   ]
  },
  {
   "cell_type": "code",
   "execution_count": 4,
   "metadata": {
    "collapsed": false
   },
   "outputs": [
    {
     "data": {
      "text/html": [
       "TRUE"
      ],
      "text/latex": [
       "TRUE"
      ],
      "text/markdown": [
       "TRUE"
      ],
      "text/plain": [
       "[1] TRUE"
      ]
     },
     "metadata": {},
     "output_type": "display_data"
    }
   ],
   "source": [
    "#Saving tweets to database and loading them from a database\n",
    "library(RSQLite)\n",
    "register_sqlite_backend(\"G:/Twitterdb/tbrady\")\n",
    "searchTerm <- \"#tombrady\"\n",
    "tweets <- searchTwitter(searchTerm, n= 30)\n",
    "store_tweets_db(tweets)\n",
    "from_db <- load_tweets_db()"
   ]
  },
  {
   "cell_type": "code",
   "execution_count": 13,
   "metadata": {
    "collapsed": true
   },
   "outputs": [],
   "source": [
    "searchTerm <- \"#facebook\"\n",
    "tweets <- searchTwitter(searchTerm, n = 55)"
   ]
  },
  {
   "cell_type": "code",
   "execution_count": 12,
   "metadata": {
    "collapsed": false
   },
   "outputs": [
    {
     "name": "stderr",
     "output_type": "stream",
     "text": [
      "Warning message in doRppAPICall(\"search/tweets\", n, params = params, retryOnRateLimit = retryOnRateLimit, :\n",
      "\"20 tweets were requested but the API can only return 0\""
     ]
    },
    {
     "data": {
      "text/html": [
       "<ol>\n",
       "</ol>\n"
      ],
      "text/latex": [
       "\\begin{enumerate}\n",
       "\\end{enumerate}\n"
      ],
      "text/markdown": [
       "\n",
       "\n"
      ],
      "text/plain": [
       "list()"
      ]
     },
     "metadata": {},
     "output_type": "display_data"
    }
   ],
   "source": [
    "# Search between two dates \n",
    "searchTwitter('donald trump', since='2016-11-01', until='2016-11-12', n=20)"
   ]
  },
  {
   "cell_type": "code",
   "execution_count": null,
   "metadata": {
    "collapsed": false
   },
   "outputs": [],
   "source": [
    "#Printing the top 6 tweets searched in the cell above\n",
    "head(tweets)"
   ]
  },
  {
   "cell_type": "code",
   "execution_count": 7,
   "metadata": {
    "collapsed": false
   },
   "outputs": [
    {
     "data": {
      "text/plain": [
       "[[1]]\n",
       "[1] \"dovidkove: <U+041D><U+0430> Facebook <U+0447><U+0435><U+043A><U+0430><U+044E><U+0442><U+044C> <U+0433><U+043B><U+043E><U+0431><U+0430><U+043B><U+044C><U+043D><U+0456> <U+0437><U+043C><U+0456><U+043D><U+0438>\\n#<U+0414><U+043E><U+0432><U+0456><U+0434><U+043A><U+043E><U+0432><U+0435><U+0411><U+044E><U+0440><U+043E> #Facebook #<U+0426><U+0443><U+043A><U+0435><U+0440><U+0431><U+0435><U+0440><U+0433> #<U+0438><U+0437><U+043C><U+0435><U+043D><U+0435><U+043D><U+0438><U+044F> https://t.co/rA1x5Bp2F0 https://t.co/0pL6OtE5k0\"\n",
       "\n",
       "[[2]]\n",
       "[1] \"opusdigitalis: #facebook si aggiorna con le Storie e la nuova Fotocamera https://t.co/J60aWKBipa https://t.co/joxUMxtu2m\"\n",
       "\n",
       "[[3]]\n",
       "[1] \"BellaMitsune: EXCLUSIVE Preview for #TeamNoSleep and the first of many... Coming TOMORROW\\n\\n#Facebook #youtuber",
       " https://t.co/6eEiIA2llG\"\n",
       "\n",
       "[[4]]\n",
       "[1] \"info_Ve: #Facebook admitió alojar información 'falsa y errónea' #Tecnología https://t.co/Grdw8fQZZH\"\n",
       "\n",
       "[[5]]\n",
       "[1] \"nirav_mp: Facebook launches Bots for Messenger challenge; apply now https://t.co/N42fK3kfJd #bots #Competition #Facebook\"\n",
       "\n",
       "[[6]]\n",
       "[1] \"andrebuklaw: Machine Learning: Making Sense of a Messy World #Facebook #android #app go to https://t.co/NrXa2OIzfS\"\n"
      ]
     },
     "metadata": {},
     "output_type": "display_data"
    }
   ],
   "source": [
    "#Printing the top 6 tweets after removing the retweets\n",
    "head(strip_retweets(tweets, strip_manual = TRUE, strip_mt = TRUE))"
   ]
  },
  {
   "cell_type": "code",
   "execution_count": 8,
   "metadata": {
    "collapsed": false
   },
   "outputs": [
    {
     "data": {
      "text/html": [
       "'Grad student pursuing MS in CSE at University at Buffalo'"
      ],
      "text/latex": [
       "'Grad student pursuing MS in CSE at University at Buffalo'"
      ],
      "text/markdown": [
       "'Grad student pursuing MS in CSE at University at Buffalo'"
      ],
      "text/plain": [
       "[1] \"Grad student pursuing MS in CSE at University at Buffalo\""
      ]
     },
     "metadata": {},
     "output_type": "display_data"
    }
   ],
   "source": [
    "#Getting user information for a single users\n",
    "nav <- getUser('TheNavneetNandi')\n",
    "nav$getDescription()"
   ]
  },
  {
   "cell_type": "code",
   "execution_count": 39,
   "metadata": {
    "collapsed": false
   },
   "outputs": [
    {
     "data": {
      "text/plain": [
       "$geoffjentry\n",
       "[1] \"geoffjentry\"\n",
       "\n",
       "$whitehouse\n",
       "[1] \"WhiteHouse\"\n"
      ]
     },
     "metadata": {},
     "output_type": "display_data"
    }
   ],
   "source": [
    "##Getting user information for a list of users\n",
    "users <- lookupUsers(c('geoffjentry', 'whitehouse'))\n",
    "users"
   ]
  },
  {
   "cell_type": "code",
   "execution_count": 9,
   "metadata": {
    "collapsed": false
   },
   "outputs": [
    {
     "data": {
      "text/html": [
       "6"
      ],
      "text/latex": [
       "6"
      ],
      "text/markdown": [
       "6"
      ],
      "text/plain": [
       "[1] 6"
      ]
     },
     "metadata": {},
     "output_type": "display_data"
    }
   ],
   "source": [
    "followers <- nav$getFollowersCount()\n",
    "followers"
   ]
  },
  {
   "cell_type": "code",
   "execution_count": 10,
   "metadata": {
    "collapsed": false
   },
   "outputs": [
    {
     "data": {
      "text/plain": [
       "[[1]]\n",
       "[1] \"HamiltonMusical: One last time.  https://t.co/u9DvWe7RGD\"\n",
       "\n",
       "[[2]]\n",
       "[1] \"pitchfork: .@BarackObama<U+200B> is the only American @POTUS you could reliably trust to DJ a party http://t.co/enrqMsVeQB http://t.co/sIG1nmVtsk\"\n",
       "\n",
       "[[3]]\n",
       "[1] \"NancyPelosi: If too much #girlpower can break the Internet, we might be in trouble. #progress4women #womensucceed http://t.co/ekid9fFAsH\"\n",
       "\n",
       "[[4]]\n",
       "[1] \"funnyordie: One girl saves the world from junk food. Starring @ChloeGMoretz @TylerGPosey &amp; @MichelleObama: http://t.co/NvM9rUC0uJ http://t.co/lEM1XTGAaX\"\n",
       "\n",
       "[[5]]\n",
       "[1] \"DeptofDefense: From 1 SecDef to another: Hagel calls @timhowardgk to say thanks for defending USA. We (USA) are proud of @ussoccer! http://t.co/M8nsYdlXFn\"\n",
       "\n",
       "[[6]]\n",
       "[1] \"WValderrama: To all,\\nHelp our president @BarackObama, @OFA &amp; I remember our American story.. Live YOUR American dream..\\nhttp://t.co/tatT6MKv0I\"\n"
      ]
     },
     "metadata": {},
     "output_type": "display_data"
    }
   ],
   "source": [
    "#Favorites\n",
    "fav <- favorites(\"barackobama\", n=50)\n",
    "head(fav)"
   ]
  },
  {
   "cell_type": "code",
   "execution_count": 14,
   "metadata": {
    "collapsed": false
   },
   "outputs": [
    {
     "name": "stdout",
     "output_type": "stream",
     "text": [
      "                    name              country    woeid\n",
      "1              Worldwide                             1\n",
      "2               Winnipeg               Canada     2972\n",
      "3                 Ottawa               Canada     3369\n",
      "4                 Quebec               Canada     3444\n",
      "5               Montreal               Canada     3534\n",
      "6                Toronto               Canada     4118\n",
      "7               Edmonton               Canada     8676\n",
      "8                Calgary               Canada     8775\n",
      "9              Vancouver               Canada     9807\n",
      "10            Birmingham       United Kingdom    12723\n",
      "11             Blackpool       United Kingdom    12903\n",
      "12           Bournemouth       United Kingdom    13383\n",
      "13              Brighton       United Kingdom    13911\n",
      "14               Bristol       United Kingdom    13963\n",
      "15               Cardiff       United Kingdom    15127\n",
      "16              Coventry       United Kingdom    17044\n",
      "17                 Derby       United Kingdom    18114\n",
      "18             Edinburgh       United Kingdom    19344\n",
      "19               Glasgow       United Kingdom    21125\n",
      "20                  Hull       United Kingdom    25211\n",
      "21                 Leeds       United Kingdom    26042\n",
      "22             Leicester       United Kingdom    26062\n",
      "23             Liverpool       United Kingdom    26734\n",
      "24            Manchester       United Kingdom    28218\n",
      "25         Middlesbrough       United Kingdom    28869\n",
      "26             Newcastle       United Kingdom    30079\n",
      "27            Nottingham       United Kingdom    30720\n",
      "28              Plymouth       United Kingdom    32185\n",
      "29            Portsmouth       United Kingdom    32452\n",
      "30               Preston       United Kingdom    32566\n",
      "31             Sheffield       United Kingdom    34503\n",
      "32        Stoke-on-Trent       United Kingdom    36240\n",
      "33               Swansea       United Kingdom    36758\n",
      "34                London       United Kingdom    44418\n",
      "35               Belfast       United Kingdom    44544\n",
      "36         Santo Domingo   Dominican Republic    76456\n",
      "37        Guatemala City            Guatemala    83123\n",
      "38              Acapulco               Mexico   110978\n",
      "39        Aguascalientes               Mexico   111579\n",
      "40             Chihuahua               Mexico   115958\n",
      "41           Mexico City               Mexico   116545\n",
      "42         Ciudad Juarez               Mexico   116556\n",
      "43        Nezahualcóyotl               Mexico   116564\n",
      "44              Culiacán               Mexico   117994\n",
      "45   Ecatepec de Morelos               Mexico   118466\n",
      "46           Guadalajara               Mexico   124162\n",
      "47            Hermosillo               Mexico   124785\n",
      "48                  León               Mexico   131068\n",
      "49                Mérida               Mexico   133327\n",
      "50              Mexicali               Mexico   133475\n",
      "51             Monterrey               Mexico   134047\n",
      "52               Morelia               Mexico   134091\n",
      "53   Naucalpan de Juárez               Mexico   134395\n",
      "54                Puebla               Mexico   137612\n",
      "55             Querétaro               Mexico   138045\n",
      "56              Saltillo               Mexico   141272\n",
      "57       San Luis Potosí               Mexico   144265\n",
      "58               Tijuana               Mexico   149361\n",
      "59                Toluca               Mexico   149769\n",
      "60               Zapopan               Mexico   151582\n",
      "61               Mendoza            Argentina   332471\n",
      "62              Santiago                Chile   349859\n",
      "63            Concepcion                Chile   349860\n",
      "64            Valparaiso                Chile   349861\n",
      "65                Bogotá             Colombia   368148\n",
      "66                  Cali             Colombia   368149\n",
      "67              Medellín             Colombia   368150\n",
      "68          Barranquilla             Colombia   368151\n",
      "69                 Quito              Ecuador   375732\n",
      "70             Guayaquil              Ecuador   375733\n",
      "71               Caracas            Venezuela   395269\n",
      "72             Maracaibo            Venezuela   395270\n",
      "73               Maracay            Venezuela   395271\n",
      "74              Valencia            Venezuela   395272\n",
      "75             Barcelona            Venezuela   395273\n",
      "76        Ciudad Guayana            Venezuela   395275\n",
      "77               Turmero            Venezuela   395277\n",
      "78                  Lima                 Peru   418440\n",
      "79              Brasília               Brazil   455819\n",
      "80                 Belém               Brazil   455820\n",
      "81        Belo Horizonte               Brazil   455821\n",
      "82              Curitiba               Brazil   455822\n",
      "83          Porto Alegre               Brazil   455823\n",
      "84                Recife               Brazil   455824\n",
      "85        Rio de Janeiro               Brazil   455825\n",
      "86              Salvador               Brazil   455826\n",
      "87             São Paulo               Brazil   455827\n",
      "88              Campinas               Brazil   455828\n",
      "89             Fortaleza               Brazil   455830\n",
      "90               Goiânia               Brazil   455831\n",
      "91                Manaus               Brazil   455833\n",
      "92              São Luís               Brazil   455834\n",
      "93             Guarulhos               Brazil   455867\n",
      "94               Córdoba            Argentina   466861\n",
      "95               Rosario            Argentina   466862\n",
      "96          Barquisimeto            Venezuela   468382\n",
      "97               Maturín            Venezuela   468384\n",
      "98          Buenos Aires            Argentina   468739\n",
      "99                Gdansk               Poland   493417\n",
      "100               Kraków               Poland   502075\n",
      "101                 Lodz               Poland   505120\n",
      "102               Poznan               Poland   514048\n",
      "103               Warsaw               Poland   523920\n",
      "104              Wroclaw               Poland   526363\n",
      "105               Vienna              Austria   551801\n",
      "106                 Cork              Ireland   560472\n",
      "107               Dublin              Ireland   560743\n",
      "108               Galway              Ireland   560912\n",
      "109             Bordeaux               France   580778\n",
      "110                Lille               France   608105\n",
      "111                 Lyon               France   609125\n",
      "112            Marseille               France   610264\n",
      "113          Montpellier               France   612977\n",
      "114               Nantes               France   613858\n",
      "115                Paris               France   615702\n",
      "116               Rennes               France   619163\n",
      "117           Strasbourg               France   627791\n",
      "118             Toulouse               France   628886\n",
      "119               Berlin              Germany   638242\n",
      "120               Bremen              Germany   641142\n",
      "121             Dortmund              Germany   645458\n",
      "122              Dresden              Germany   645686\n",
      "123           Dusseldorf              Germany   646099\n",
      "124                Essen              Germany   648820\n",
      "125            Frankfurt              Germany   650272\n",
      "126              Hamburg              Germany   656958\n",
      "127              Cologne              Germany   667931\n",
      "128              Leipzig              Germany   671072\n",
      "129               Munich              Germany   676757\n",
      "130            Stuttgart              Germany   698064\n",
      "131              Bologna                Italy   711080\n",
      "132                Genoa                Italy   716085\n",
      "133                Milan                Italy   718345\n",
      "134               Naples                Italy   719258\n",
      "135              Palermo                Italy   719846\n",
      "136                 Rome                Italy   721943\n",
      "137                Turin                Italy   725003\n",
      "138             Den Haag          Netherlands   726874\n",
      "139            Amsterdam          Netherlands   727232\n",
      "140            Rotterdam          Netherlands   733075\n",
      "141              Utrecht          Netherlands   734047\n",
      "142            Barcelona                Spain   753692\n",
      "143               Bilbao                Spain   754542\n",
      "144           Las Palmas                Spain   764814\n",
      "145               Madrid                Spain   766273\n",
      "146               Malaga                Spain   766356\n",
      "147               Murcia                Spain   768026\n",
      "148                Palma                Spain   769293\n",
      "149              Seville                Spain   774508\n",
      "150             Valencia                Spain   776688\n",
      "151             Zaragoza                Spain   779063\n",
      "152               Geneva          Switzerland   782538\n",
      "153             Lausanne          Switzerland   783058\n",
      "154               Zurich          Switzerland   784794\n",
      "155                Brest              Belarus   824382\n",
      "156               Grodno              Belarus   825848\n",
      "157                Gomel              Belarus   825978\n",
      "158                Minsk              Belarus   834463\n",
      "159                 Riga               Latvia   854823\n",
      "160               Bergen               Norway   857105\n",
      "161                 Oslo               Norway   862592\n",
      "162           Gothenburg               Sweden   890869\n",
      "163            Stockholm               Sweden   906057\n",
      "164       Dnipropetrovsk              Ukraine   918981\n",
      "165              Donetsk              Ukraine   919163\n",
      "166              Kharkiv              Ukraine   922137\n",
      "167                 Kyiv              Ukraine   924938\n",
      "168                 Lviv              Ukraine   924943\n",
      "169                Odesa              Ukraine   929398\n",
      "170           Zaporozhye              Ukraine   939628\n",
      "171               Athens               Greece   946738\n",
      "172         Thessaloniki               Greece   963291\n",
      "173               Bekasi            Indonesia  1030077\n",
      "174                Depok            Indonesia  1032539\n",
      "175            Pekanbaru            Indonesia  1040779\n",
      "176             Surabaya            Indonesia  1044316\n",
      "177             Makassar            Indonesia  1046138\n",
      "178              Bandung            Indonesia  1047180\n",
      "179              Jakarta            Indonesia  1047378\n",
      "180                Medan            Indonesia  1047908\n",
      "181            Palembang            Indonesia  1048059\n",
      "182             Semarang            Indonesia  1048324\n",
      "183            Tangerang            Indonesia  1048536\n",
      "184            Singapore            Singapore  1062617\n",
      "185                Perth            Australia  1098081\n",
      "186             Adelaide            Australia  1099805\n",
      "187             Brisbane            Australia  1100661\n",
      "188             Canberra            Australia  1100968\n",
      "189               Darwin            Australia  1101597\n",
      "190            Melbourne            Australia  1103816\n",
      "191               Sydney            Australia  1105779\n",
      "192           Kitakyushu                Japan  1110809\n",
      "193              Saitama                Japan  1116753\n",
      "194                Chiba                Japan  1117034\n",
      "195              Fukuoka                Japan  1117099\n",
      "196            Hamamatsu                Japan  1117155\n",
      "197            Hiroshima                Japan  1117227\n",
      "198             Kawasaki                Japan  1117502\n",
      "199                 Kobe                Japan  1117545\n",
      "200             Kumamoto                Japan  1117605\n",
      "201               Nagoya                Japan  1117817\n",
      "202              Niigata                Japan  1117881\n",
      "203           Sagamihara                Japan  1118072\n",
      "204              Sapporo                Japan  1118108\n",
      "205               Sendai                Japan  1118129\n",
      "206            Takamatsu                Japan  1118285\n",
      "207                Tokyo                Japan  1118370\n",
      "208             Yokohama                Japan  1118550\n",
      "209               Goyang                Korea  1130853\n",
      "210               Yongin                Korea  1132094\n",
      "211                Ansan                Korea  1132444\n",
      "212              Bucheon                Korea  1132445\n",
      "213                Busan                Korea  1132447\n",
      "214             Changwon                Korea  1132449\n",
      "215                Daegu                Korea  1132466\n",
      "216              Gwangju                Korea  1132481\n",
      "217              Incheon                Korea  1132496\n",
      "218             Seongnam                Korea  1132559\n",
      "219                Suwon                Korea  1132567\n",
      "220                Ulsan                Korea  1132578\n",
      "221                Seoul                Korea  1132599\n",
      "222               Kajang             Malaysia  1141268\n",
      "223                 Ipoh             Malaysia  1154679\n",
      "224          Johor Bahru             Malaysia  1154698\n",
      "225                Klang             Malaysia  1154726\n",
      "226         Kuala Lumpur             Malaysia  1154781\n",
      "227              Calocan          Philippines  1167715\n",
      "228               Makati          Philippines  1180689\n",
      "229                Pasig          Philippines  1187115\n",
      "230               Taguig          Philippines  1195098\n",
      "231             Antipolo          Philippines  1198785\n",
      "232       Cagayan de Oro          Philippines  1199002\n",
      "233            Cebu City          Philippines  1199079\n",
      "234           Davao City          Philippines  1199136\n",
      "235               Manila          Philippines  1199477\n",
      "236          Quezon City          Philippines  1199682\n",
      "237       Zamboanga City          Philippines  1199980\n",
      "238              Bangkok             Thailand  1225448\n",
      "239                Hanoi              Vietnam  1236594\n",
      "240            Hai Phong              Vietnam  1236690\n",
      "241              Can Tho              Vietnam  1252351\n",
      "242              Da Nang              Vietnam  1252376\n",
      "243     Ho Chi Minh City              Vietnam  1252431\n",
      "244              Algiers              Algeria  1253079\n",
      "245                Accra                Ghana  1326075\n",
      "246               Kumasi                Ghana  1330595\n",
      "247           Benin City              Nigeria  1387660\n",
      "248               Ibadan              Nigeria  1393672\n",
      "249               Kaduna              Nigeria  1396439\n",
      "250                 Kano              Nigeria  1396803\n",
      "251                Lagos              Nigeria  1398823\n",
      "252        Port Harcourt              Nigeria  1404447\n",
      "253                 Giza                Egypt  1521643\n",
      "254                Cairo                Egypt  1521894\n",
      "255           Alexandria                Egypt  1522006\n",
      "256              Mombasa                Kenya  1528335\n",
      "257              Nairobi                Kenya  1528488\n",
      "258               Durban         South Africa  1580913\n",
      "259         Johannesburg         South Africa  1582504\n",
      "260       Port Elizabeth         South Africa  1586614\n",
      "261             Pretoria         South Africa  1586638\n",
      "262               Soweto         South Africa  1587677\n",
      "263            Cape Town         South Africa  1591691\n",
      "264               Medina         Saudi Arabia  1937801\n",
      "265               Dammam         Saudi Arabia  1939574\n",
      "266               Riyadh         Saudi Arabia  1939753\n",
      "267               Jeddah         Saudi Arabia  1939873\n",
      "268                Mecca         Saudi Arabia  1939897\n",
      "269              Sharjah United Arab Emirates  1940119\n",
      "270            Abu Dhabi United Arab Emirates  1940330\n",
      "271                Dubai United Arab Emirates  1940345\n",
      "272                Haifa               Israel  1967449\n",
      "273             Tel Aviv               Israel  1968212\n",
      "274            Jerusalem               Israel  1968222\n",
      "275                Amman               Jordan  1968902\n",
      "276          Chelyabinsk               Russia  1997422\n",
      "277           Khabarovsk               Russia  2018708\n",
      "278            Krasnodar               Russia  2028717\n",
      "279          Krasnoyarsk               Russia  2029043\n",
      "280               Samara               Russia  2077746\n",
      "281             Voronezh               Russia  2108210\n",
      "282        Yekaterinburg               Russia  2112237\n",
      "283              Irkutsk               Russia  2121040\n",
      "284                Kazan               Russia  2121267\n",
      "285               Moscow               Russia  2122265\n",
      "286      Nizhny Novgorod               Russia  2122471\n",
      "287          Novosibirsk               Russia  2122541\n",
      "288                 Omsk               Russia  2122641\n",
      "289                 Perm               Russia  2122814\n",
      "290        Rostov-on-Don               Russia  2123177\n",
      "291     Saint Petersburg               Russia  2123260\n",
      "292                  Ufa               Russia  2124045\n",
      "293          Vladivostok               Russia  2124288\n",
      "294            Volgograd               Russia  2124298\n",
      "295              Karachi             Pakistan  2211096\n",
      "296               Lahore             Pakistan  2211177\n",
      "297               Multan             Pakistan  2211269\n",
      "298           Rawalpindi             Pakistan  2211387\n",
      "299           Faisalabad             Pakistan  2211574\n",
      "300               Muscat                 Oman  2268284\n",
      "301               Nagpur                India  2282863\n",
      "302              Lucknow                India  2295377\n",
      "303               Kanpur                India  2295378\n",
      "304                Patna                India  2295381\n",
      "305               Ranchi                India  2295383\n",
      "306              Kolkata                India  2295386\n",
      "307             Srinagar                India  2295387\n",
      "308             Amritsar                India  2295388\n",
      "309               Jaipur                India  2295401\n",
      "310            Ahmedabad                India  2295402\n",
      "311               Rajkot                India  2295404\n",
      "312                Surat                India  2295405\n",
      "313               Bhopal                India  2295407\n",
      "314               Indore                India  2295408\n",
      "315                Thane                India  2295410\n",
      "316               Mumbai                India  2295411\n",
      "317                 Pune                India  2295412\n",
      "318            Hyderabad                India  2295414\n",
      "319            Bangalore                India  2295420\n",
      "320              Chennai                India  2295424\n",
      "321               Mersin               Turkey  2323778\n",
      "322                Adana               Turkey  2343678\n",
      "323               Ankara               Turkey  2343732\n",
      "324              Antalya               Turkey  2343733\n",
      "325                Bursa               Turkey  2343843\n",
      "326           Diyarbakir               Turkey  2343932\n",
      "327            Eskisehir               Turkey  2343980\n",
      "328            Gaziantep               Turkey  2343999\n",
      "329             Istanbul               Turkey  2344116\n",
      "330                Izmir               Turkey  2344117\n",
      "331              Kayseri               Turkey  2344174\n",
      "332                Konya               Turkey  2344210\n",
      "333              Okinawa                Japan  2345896\n",
      "334              Daejeon                Korea  2345975\n",
      "335             Auckland          New Zealand  2348079\n",
      "336          Albuquerque        United States  2352824\n",
      "337              Atlanta        United States  2357024\n",
      "338               Austin        United States  2357536\n",
      "339            Baltimore        United States  2358820\n",
      "340          Baton Rouge        United States  2359991\n",
      "341           Birmingham        United States  2364559\n",
      "342               Boston        United States  2367105\n",
      "343            Charlotte        United States  2378426\n",
      "344              Chicago        United States  2379574\n",
      "345           Cincinnati        United States  2380358\n",
      "346            Cleveland        United States  2381475\n",
      "347     Colorado Springs        United States  2383489\n",
      "348             Columbus        United States  2383660\n",
      "349     Dallas-Ft. Worth        United States  2388929\n",
      "350               Denver        United States  2391279\n",
      "351              Detroit        United States  2391585\n",
      "352              El Paso        United States  2397816\n",
      "353               Fresno        United States  2407517\n",
      "354           Greensboro        United States  2414469\n",
      "355           Harrisburg        United States  2418046\n",
      "356             Honolulu        United States  2423945\n",
      "357              Houston        United States  2424766\n",
      "358         Indianapolis        United States  2427032\n",
      "359              Jackson        United States  2428184\n",
      "360         Jacksonville        United States  2428344\n",
      "361          Kansas City        United States  2430683\n",
      "362            Las Vegas        United States  2436704\n",
      "363           Long Beach        United States  2441472\n",
      "364          Los Angeles        United States  2442047\n",
      "365           Louisville        United States  2442327\n",
      "366              Memphis        United States  2449323\n",
      "367                 Mesa        United States  2449808\n",
      "368                Miami        United States  2450022\n",
      "369            Milwaukee        United States  2451822\n",
      "370          Minneapolis        United States  2452078\n",
      "371            Nashville        United States  2457170\n",
      "372            New Haven        United States  2458410\n",
      "373          New Orleans        United States  2458833\n",
      "374             New York        United States  2459115\n",
      "375              Norfolk        United States  2460389\n",
      "376        Oklahoma City        United States  2464592\n",
      "377                Omaha        United States  2465512\n",
      "378              Orlando        United States  2466256\n",
      "379         Philadelphia        United States  2471217\n",
      "380              Phoenix        United States  2471390\n",
      "381           Pittsburgh        United States  2473224\n",
      "382             Portland        United States  2475687\n",
      "383           Providence        United States  2477058\n",
      "384              Raleigh        United States  2478307\n",
      "385             Richmond        United States  2480894\n",
      "386           Sacramento        United States  2486340\n",
      "387            St. Louis        United States  2486982\n",
      "388       Salt Lake City        United States  2487610\n",
      "389          San Antonio        United States  2487796\n",
      "390            San Diego        United States  2487889\n",
      "391        San Francisco        United States  2487956\n",
      "392             San Jose        United States  2488042\n",
      "393              Seattle        United States  2490383\n",
      "394          Tallahassee        United States  2503713\n",
      "395                Tampa        United States  2503863\n",
      "396               Tucson        United States  2508428\n",
      "397       Virginia Beach        United States  2512636\n",
      "398           Washington        United States  2514815\n",
      "399                Osaka                Japan 15015370\n",
      "400                Kyoto                Japan 15015372\n",
      "401                Delhi                India 20070458\n",
      "402 United Arab Emirates United Arab Emirates 23424738\n",
      "403              Algeria              Algeria 23424740\n",
      "404            Argentina            Argentina 23424747\n",
      "405            Australia            Australia 23424748\n",
      "406              Austria              Austria 23424750\n",
      "407              Bahrain              Bahrain 23424753\n",
      "408              Belgium              Belgium 23424757\n",
      "409              Belarus              Belarus 23424765\n",
      "410               Brazil               Brazil 23424768\n",
      "411               Canada               Canada 23424775\n",
      "412                Chile                Chile 23424782\n",
      "413             Colombia             Colombia 23424787\n",
      "414              Denmark              Denmark 23424796\n",
      "415   Dominican Republic   Dominican Republic 23424800\n",
      "416              Ecuador              Ecuador 23424801\n",
      "417                Egypt                Egypt 23424802\n",
      "418              Ireland              Ireland 23424803\n",
      "419               France               France 23424819\n",
      "420                Ghana                Ghana 23424824\n",
      "421              Germany              Germany 23424829\n",
      "422               Greece               Greece 23424833\n",
      "423            Guatemala            Guatemala 23424834\n",
      "424            Indonesia            Indonesia 23424846\n",
      "425                India                India 23424848\n",
      "426               Israel               Israel 23424852\n",
      "427                Italy                Italy 23424853\n",
      "428                Japan                Japan 23424856\n",
      "429               Jordan               Jordan 23424860\n",
      "430                Kenya                Kenya 23424863\n",
      "431                Korea                Korea 23424868\n",
      "432               Kuwait               Kuwait 23424870\n",
      "433              Lebanon              Lebanon 23424873\n",
      "434               Latvia               Latvia 23424874\n",
      "435                 Oman                 Oman 23424898\n",
      "436               Mexico               Mexico 23424900\n",
      "437             Malaysia             Malaysia 23424901\n",
      "438              Nigeria              Nigeria 23424908\n",
      "439          Netherlands          Netherlands 23424909\n",
      "440               Norway               Norway 23424910\n",
      "441          New Zealand          New Zealand 23424916\n",
      "442                 Peru                 Peru 23424919\n",
      "443             Pakistan             Pakistan 23424922\n",
      "444               Poland               Poland 23424923\n",
      "445               Panama               Panama 23424924\n",
      "446             Portugal             Portugal 23424925\n",
      "447                Qatar                Qatar 23424930\n",
      "448          Philippines          Philippines 23424934\n",
      "449          Puerto Rico          Puerto Rico 23424935\n",
      "450               Russia               Russia 23424936\n",
      "451         Saudi Arabia         Saudi Arabia 23424938\n",
      "452         South Africa         South Africa 23424942\n",
      "453            Singapore            Singapore 23424948\n",
      "454                Spain                Spain 23424950\n",
      "455               Sweden               Sweden 23424954\n",
      "456          Switzerland          Switzerland 23424957\n",
      "457             Thailand             Thailand 23424960\n",
      "458               Turkey               Turkey 23424969\n",
      "459       United Kingdom       United Kingdom 23424975\n",
      "460              Ukraine              Ukraine 23424976\n",
      "461        United States        United States 23424977\n",
      "462            Venezuela            Venezuela 23424982\n",
      "463              Vietnam              Vietnam 23424984\n",
      "464             Petaling             Malaysia 56013632\n",
      "465          Hulu Langat             Malaysia 56013645\n",
      "466                 Ahsa         Saudi Arabia 56120136\n",
      "467              Okayama                Japan 90036018\n"
     ]
    }
   ],
   "source": [
    "# Trends available from these places\n",
    "trendsLoc <- availableTrendLocations()\n",
    "print(trendsLoc)"
   ]
  },
  {
   "cell_type": "code",
   "execution_count": 15,
   "metadata": {
    "collapsed": false
   },
   "outputs": [
    {
     "data": {
      "text/html": [
       "<table>\n",
       "<thead><tr><th scope=col>name</th><th scope=col>url</th><th scope=col>query</th><th scope=col>woeid</th></tr></thead>\n",
       "<tbody>\n",
       "\t<tr><td>#Voot                                                      </td><td>http://twitter.com/search?q=%23Voot                        </td><td>%23Voot                                                    </td><td>2295386                                                    </td></tr>\n",
       "\t<tr><td>#PatanjaliMisleadingConsumers                              </td><td>http://twitter.com/search?q=%23PatanjaliMisleadingConsumers</td><td>%23PatanjaliMisleadingConsumers                            </td><td>2295386                                                    </td></tr>\n",
       "\t<tr><td>#priyankagandhi                                            </td><td>http://twitter.com/search?q=%23priyankagandhi              </td><td>%23priyankagandhi                                          </td><td>2295386                                                    </td></tr>\n",
       "\t<tr><td>#Humsafar                                                  </td><td>http://twitter.com/search?q=%23Humsafar                    </td><td>%23Humsafar                                                </td><td>2295386                                                    </td></tr>\n",
       "\t<tr><td>Rahul Gandhi                                               </td><td>http://twitter.com/search?q=%22Rahul+Gandhi%22             </td><td>%22Rahul+Gandhi%22                                         </td><td>2295386                                                    </td></tr>\n",
       "\t<tr><td>ISRO                                                       </td><td>http://twitter.com/search?q=ISRO                           </td><td>ISRO                                                       </td><td>2295386                                                    </td></tr>\n",
       "</tbody>\n",
       "</table>\n"
      ],
      "text/latex": [
       "\\begin{tabular}{r|llll}\n",
       " name & url & query & woeid\\\\\n",
       "\\hline\n",
       "\t \\#Voot                                                       & http://twitter.com/search?q=\\%23Voot                         & \\%23Voot                                                     & 2295386                                                      \\\\\n",
       "\t \\#PatanjaliMisleadingConsumers                               & http://twitter.com/search?q=\\%23PatanjaliMisleadingConsumers & \\%23PatanjaliMisleadingConsumers                             & 2295386                                                      \\\\\n",
       "\t \\#priyankagandhi                                             & http://twitter.com/search?q=\\%23priyankagandhi               & \\%23priyankagandhi                                           & 2295386                                                      \\\\\n",
       "\t \\#Humsafar                                                   & http://twitter.com/search?q=\\%23Humsafar                     & \\%23Humsafar                                                 & 2295386                                                      \\\\\n",
       "\t Rahul Gandhi                                                    & http://twitter.com/search?q=\\%22Rahul+Gandhi\\%22              & \\%22Rahul+Gandhi\\%22                                          & 2295386                                                        \\\\\n",
       "\t ISRO                                                        & http://twitter.com/search?q=ISRO                            & ISRO                                                        & 2295386                                                    \\\\\n",
       "\\end{tabular}\n"
      ],
      "text/markdown": [
       "\n",
       "name | url | query | woeid | \n",
       "|---|---|---|---|---|---|\n",
       "| #Voot                                                       | http://twitter.com/search?q=%23Voot                         | %23Voot                                                     | 2295386                                                     | \n",
       "| #PatanjaliMisleadingConsumers                               | http://twitter.com/search?q=%23PatanjaliMisleadingConsumers | %23PatanjaliMisleadingConsumers                             | 2295386                                                     | \n",
       "| #priyankagandhi                                             | http://twitter.com/search?q=%23priyankagandhi               | %23priyankagandhi                                           | 2295386                                                     | \n",
       "| #Humsafar                                                   | http://twitter.com/search?q=%23Humsafar                     | %23Humsafar                                                 | 2295386                                                     | \n",
       "| Rahul Gandhi                                                | http://twitter.com/search?q=%22Rahul+Gandhi%22              | %22Rahul+Gandhi%22                                          | 2295386                                                     | \n",
       "| ISRO                                                        | http://twitter.com/search?q=ISRO                            | ISRO                                                        | 2295386                                                     | \n",
       "\n",
       "\n"
      ],
      "text/plain": [
       "  name                         \n",
       "1 #Voot                        \n",
       "2 #PatanjaliMisleadingConsumers\n",
       "3 #priyankagandhi              \n",
       "4 #Humsafar                    \n",
       "5 Rahul Gandhi                 \n",
       "6 ISRO                         \n",
       "  url                                                        \n",
       "1 http://twitter.com/search?q=%23Voot                        \n",
       "2 http://twitter.com/search?q=%23PatanjaliMisleadingConsumers\n",
       "3 http://twitter.com/search?q=%23priyankagandhi              \n",
       "4 http://twitter.com/search?q=%23Humsafar                    \n",
       "5 http://twitter.com/search?q=%22Rahul+Gandhi%22             \n",
       "6 http://twitter.com/search?q=ISRO                           \n",
       "  query                           woeid  \n",
       "1 %23Voot                         2295386\n",
       "2 %23PatanjaliMisleadingConsumers 2295386\n",
       "3 %23priyankagandhi               2295386\n",
       "4 %23Humsafar                     2295386\n",
       "5 %22Rahul+Gandhi%22              2295386\n",
       "6 ISRO                            2295386"
      ]
     },
     "metadata": {},
     "output_type": "display_data"
    },
    {
     "data": {
      "text/html": [
       "<ol class=list-inline>\n",
       "\t<li>'#LaGala'</li>\n",
       "\t<li>'#RefresqueSuaVibeNoBBB'</li>\n",
       "\t<li>'#عقليات_البعض_تحتاج'</li>\n",
       "\t<li>'Veracruz'</li>\n",
       "\t<li>'#floortest'</li>\n",
       "\t<li>'#사랑해로_자동완성'</li>\n",
       "</ol>\n"
      ],
      "text/latex": [
       "\\begin{enumerate*}\n",
       "\\item '\\#LaGala'\n",
       "\\item '\\#RefresqueSuaVibeNoBBB'\n",
       "\\item '\\#عقليات\\_البعض\\_تحتاج'\n",
       "\\item 'Veracruz'\n",
       "\\item '\\#floortest'\n",
       "\\item '\\#사랑해로\\_자동완성'\n",
       "\\end{enumerate*}\n"
      ],
      "text/markdown": [
       "1. '#LaGala'\n",
       "2. '#RefresqueSuaVibeNoBBB'\n",
       "3. '#عقليات_البعض_تحتاج'\n",
       "4. 'Veracruz'\n",
       "5. '#floortest'\n",
       "6. '#사랑해로_자동완성'\n",
       "\n",
       "\n"
      ],
      "text/plain": [
       "[1] \"#LaGala\"                \"#RefresqueSuaVibeNoBBB\" \"#<U+0639><U+0642><U+0644><U+064A><U+0627><U+062A>_<U+0627><U+0644><U+0628><U+0639><U+0636>_<U+062A><U+062D><U+062A><U+0627><U+062C>\"\n",
       "[4] \"Veracruz\"               \"#floortest\"             \"#<U+C0AC><U+B791><U+D574><U+B85C>_<U+C790><U+B3D9><U+C644><U+C131>\""
      ]
     },
     "metadata": {},
     "output_type": "display_data"
    }
   ],
   "source": [
    "# Twitter trend of a place\n",
    "kolkataTrend <- getTrends(2295386)\n",
    "head(kolkataTrend)\n",
    "\n",
    "worldTrend <- (getTrends(1))\n",
    "head(worldTrend$name)"
   ]
  },
  {
   "cell_type": "code",
   "execution_count": 18,
   "metadata": {
    "collapsed": false
   },
   "outputs": [
    {
     "data": {
      "text/plain": [
       "[[1]]\n",
       "[1] \"BarackObama: We asked. You answered. https://t.co/mAJvko6VqR\"\n",
       "\n",
       "[[2]]\n",
       "[1] \"BarackObama: Happy Valentines Day, @michelleobama! Almost 28 years with you, but it always feels new. https://t.co/O0UhJWoqGN\"\n",
       "\n",
       "[[3]]\n",
       "[1] \"BarackObama: I read letters like these every single day. It was one of the best parts of the job  hearing from you. https://t.co/so1luBcszV\"\n",
       "\n",
       "[[4]]\n",
       "[1] \"BarackObama: In the meantime, I want to hear what you're thinking about the road ahead. So share your ideas with me here: https://t.co/GYkEOK8EuT\"\n",
       "\n",
       "[[5]]\n",
       "[1] \"BarackObama: Hi everybody! Back to the original handle. Is this thing still on? Michelle and I are off on a quick vacation, then well get back to work.\"\n",
       "\n",
       "[[6]]\n",
       "[1] \"BarackObama: Tonight, President Obama reflects on eight years of progress. Watch the #FarewellAddress at 9 pm ET: https://t.co/ZnwTsg155B #ObamaFarewell\"\n",
       "\n",
       "[[7]]\n",
       "[1] \"BarackObama: In the weekly address, President Obama discusses what #Obamacare has done to improve health care. https://t.co/VdQlyrSZhx\"\n",
       "\n",
       "[[8]]\n",
       "[1] \"BarackObama: Let's keep working to keep our economy on a better, stronger course. https://t.co/bV2BVjyj7a\"\n",
       "\n",
       "[[9]]\n",
       "[1] \"BarackObama: The landmark #ParisAgreement enters into force todaywe must keep up the momentum to #ActOnClimate. https://t.co/Cyw5Udaoro\"\n",
       "\n",
       "[[10]]\n",
       "[1] \"BarackObama: The economy added 161,000 jobs in October, and wages are up 2.8 percent over the past year. https://t.co/pJxjgLnjCt #JobsReport\"\n",
       "\n",
       "[[11]]\n",
       "[1] \"BarackObama: There are a lot of plans out there. Check your options and lock in the one that's best for you: https://t.co/buFY9ozDz4 #GetCovered\"\n",
       "\n",
       "[[12]]\n",
       "[1] \"BarackObama: The positive impact of #Obamacare is undeniable, but there's one big factor holding many states back: https://t.co/7XebIdRX34\"\n",
       "\n",
       "[[13]]\n",
       "[1] \"BarackObama: Tens of millions of Americans have benefited from #Obamacare. Make sure you're one of them. #GetCovered https://t.co/e1KoXcPtpU\"\n",
       "\n",
       "[[14]]\n",
       "[1] \"BarackObama: Thanks to #Obamacare, quality health care is available to everyone. The marketplace is now openmake sure you and y",
       " https://t.co/89gl6pzMGD\"\n",
       "\n",
       "[[15]]\n",
       "[1] \"BarackObama: Community organizing never goes out of style. Shop now: https://t.co/LXEbQdKLLT https://t.co/E56ofoU36i\"\n"
      ]
     },
     "metadata": {},
     "output_type": "display_data"
    }
   ],
   "source": [
    "#Getting user timeline\n",
    "user <- 'barackobama'\n",
    "myTimeline <- userTimeline(user, n=20)\n",
    "myTimeline"
   ]
  },
  {
   "cell_type": "code",
   "execution_count": 19,
   "metadata": {
    "collapsed": false
   },
   "outputs": [
    {
     "data": {
      "text/html": [
       "<table>\n",
       "<thead><tr><th scope=col>text</th><th scope=col>favorited</th><th scope=col>favoriteCount</th><th scope=col>replyToSN</th><th scope=col>created</th><th scope=col>truncated</th><th scope=col>replyToSID</th><th scope=col>id</th><th scope=col>replyToUID</th><th scope=col>statusSource</th><th scope=col>screenName</th><th scope=col>retweetCount</th><th scope=col>isRetweet</th><th scope=col>retweeted</th><th scope=col>longitude</th><th scope=col>latitude</th></tr></thead>\n",
       "<tbody>\n",
       "\t<tr><td><span style=white-space:pre-wrap>We asked. You answered. https://t.co/mAJvko6VqR                                                                                             </span></td><td>FALSE                                                                                                                                                                               </td><td><span style=white-space:pre-wrap>  65307</span>                                                                                                                                     </td><td><span style=white-space:pre-wrap>NA         </span>                                                                                                                                 </td><td>2017-02-17 19:37:55                                                                                                                                                                 </td><td>FALSE                                                                                                                                                                               </td><td><span style=white-space:pre-wrap>NA                </span>                                                                                                                          </td><td>832675462325243906                                                                                                                                                                  </td><td><span style=white-space:pre-wrap>NA    </span>                                                                                                                                      </td><td>&lt;a href=\"http://twitter.com\" rel=\"nofollow\"&gt;Twitter Web Client&lt;/a&gt;                                                                                                      </td><td>BarackObama                                                                                                                                                                         </td><td> 15293                                                                                                                                                                              </td><td>FALSE                                                                                                                                                                               </td><td>FALSE                                                                                                                                                                               </td><td>NA                                                                                                                                                                                  </td><td>NA                                                                                                                                                                                  </td></tr>\n",
       "\t<tr><td><span style=white-space:pre-wrap>Happy Valentine’s Day, @michelleobama! Almost 28 years with you, but it always feels new. https://t.co/O0UhJWoqGN                           </span></td><td>FALSE                                                                                                                                                                               </td><td>1011282                                                                                                                                                                             </td><td><span style=white-space:pre-wrap>NA         </span>                                                                                                                                 </td><td>2017-02-14 15:34:47                                                                                                                                                                 </td><td>FALSE                                                                                                                                                                               </td><td><span style=white-space:pre-wrap>NA                </span>                                                                                                                          </td><td>831527113211645959                                                                                                                                                                  </td><td><span style=white-space:pre-wrap>NA    </span>                                                                                                                                      </td><td>&lt;a href=\"http://twitter.com\" rel=\"nofollow\"&gt;Twitter Web Client&lt;/a&gt;                                                                                                      </td><td>BarackObama                                                                                                                                                                         </td><td>250735                                                                                                                                                                              </td><td>FALSE                                                                                                                                                                               </td><td>FALSE                                                                                                                                                                               </td><td>NA                                                                                                                                                                                  </td><td>NA                                                                                                                                                                                  </td></tr>\n",
       "\t<tr><td><span style=white-space:pre-wrap>I read letters like these every single day. It was one of the best parts of the job – hearing from you. https://t.co/so1luBcszV             </span></td><td>FALSE                                                                                                                                                                               </td><td> 227896                                                                                                                                                                             </td><td><span style=white-space:pre-wrap>NA         </span>                                                                                                                                 </td><td>2017-01-22 18:07:02                                                                                                                                                                 </td><td>FALSE                                                                                                                                                                               </td><td><span style=white-space:pre-wrap>NA                </span>                                                                                                                          </td><td>823230505546117120                                                                                                                                                                  </td><td><span style=white-space:pre-wrap>NA    </span>                                                                                                                                      </td><td>&lt;a href=\"http://twitter.com\" rel=\"nofollow\"&gt;Twitter Web Client&lt;/a&gt;                                                                                                      </td><td>BarackObama                                                                                                                                                                         </td><td> 34171                                                                                                                                                                              </td><td>FALSE                                                                                                                                                                               </td><td>FALSE                                                                                                                                                                               </td><td>NA                                                                                                                                                                                  </td><td>NA                                                                                                                                                                                  </td></tr>\n",
       "\t<tr><td><span style=white-space:pre-wrap>In the meantime, I want to hear what you're thinking about the road ahead. So share your ideas with me here: https://t.co/GYkEOK8EuT        </span></td><td>FALSE                                                                                                                                                                               </td><td> 234243                                                                                                                                                                             </td><td>BarackObama                                                                                                                                                                         </td><td>2017-01-20 21:05:04                                                                                                                                                                 </td><td>FALSE                                                                                                                                                                               </td><td>822550300942856193                                                                                                                                                                  </td><td>822550536469803009                                                                                                                                                                  </td><td>813286                                                                                                                                                                              </td><td>&lt;a href=\"http://twitter.com\" rel=\"nofollow\"&gt;Twitter Web Client&lt;/a&gt;                                                                                                      </td><td>BarackObama                                                                                                                                                                         </td><td> 53951                                                                                                                                                                              </td><td>FALSE                                                                                                                                                                               </td><td>FALSE                                                                                                                                                                               </td><td>NA                                                                                                                                                                                  </td><td>NA                                                                                                                                                                                  </td></tr>\n",
       "\t<tr><td>Hi everybody! Back to the original handle. Is this thing still on? Michelle and I are off on a quick vacation, then we’ll get back to work. </td><td>FALSE                                                                                                                                       </td><td>1882009                                                                                                                                     </td><td><span style=white-space:pre-wrap>NA         </span>                                                                                         </td><td>2017-01-20 21:04:08                                                                                                                         </td><td>FALSE                                                                                                                                       </td><td><span style=white-space:pre-wrap>NA                </span>                                                                                  </td><td>822550300942856193                                                                                                                          </td><td><span style=white-space:pre-wrap>NA    </span>                                                                                              </td><td>&lt;a href=\"http://twitter.com\" rel=\"nofollow\"&gt;Twitter Web Client&lt;/a&gt;                                                              </td><td>BarackObama                                                                                                                                 </td><td>448361                                                                                                                                      </td><td>FALSE                                                                                                                                       </td><td>FALSE                                                                                                                                       </td><td>NA                                                                                                                                          </td><td>NA                                                                                                                                          </td></tr>\n",
       "\t<tr><td>Tonight, President Obama reflects on eight years of progress. Watch the #FarewellAddress at 9 pm ET: https://t.co/ZnwTsg155B #ObamaFarewell </td><td>FALSE                                                                                                                                       </td><td><span style=white-space:pre-wrap>  71282</span>                                                                                             </td><td><span style=white-space:pre-wrap>NA         </span>                                                                                         </td><td>2017-01-10 23:44:14                                                                                                                         </td><td>FALSE                                                                                                                                       </td><td><span style=white-space:pre-wrap>NA                </span>                                                                                  </td><td>818966711995088896                                                                                                                          </td><td><span style=white-space:pre-wrap>NA    </span>                                                                                              </td><td>&lt;a href=\"http://twitter.com\" rel=\"nofollow\"&gt;Twitter Web Client&lt;/a&gt;                                                              </td><td>BarackObama                                                                                                                                 </td><td> 13653                                                                                                                                      </td><td>FALSE                                                                                                                                       </td><td>FALSE                                                                                                                                       </td><td>NA                                                                                                                                          </td><td>NA                                                                                                                                          </td></tr>\n",
       "\t<tr><td><span style=white-space:pre-wrap>In the weekly address, President Obama discusses what #Obamacare has done to improve health care. https://t.co/VdQlyrSZhx                   </span></td><td>FALSE                                                                                                                                                                               </td><td><span style=white-space:pre-wrap>  25233</span>                                                                                                                                     </td><td><span style=white-space:pre-wrap>NA         </span>                                                                                                                                 </td><td>2016-11-05 15:38:53                                                                                                                                                                 </td><td>FALSE                                                                                                                                                                               </td><td><span style=white-space:pre-wrap>NA                </span>                                                                                                                          </td><td>794926969829920768                                                                                                                                                                  </td><td><span style=white-space:pre-wrap>NA    </span>                                                                                                                                      </td><td>&lt;a href=\"http://twitter.com\" rel=\"nofollow\"&gt;Twitter Web Client&lt;/a&gt;                                                                                                      </td><td>BarackObama                                                                                                                                                                         </td><td><span style=white-space:pre-wrap>  4128</span>                                                                                                                                      </td><td>FALSE                                                                                                                                                                               </td><td>FALSE                                                                                                                                                                               </td><td>NA                                                                                                                                                                                  </td><td>NA                                                                                                                                                                                  </td></tr>\n",
       "\t<tr><td><span style=white-space:pre-wrap>Let's keep working to keep our economy on a better, stronger course. https://t.co/bV2BVjyj7a                                                </span></td><td>FALSE                                                                                                                                                                               </td><td><span style=white-space:pre-wrap>  40756</span>                                                                                                                                     </td><td><span style=white-space:pre-wrap>NA         </span>                                                                                                                                 </td><td>2016-11-04 22:16:14                                                                                                                                                                 </td><td>FALSE                                                                                                                                                                               </td><td><span style=white-space:pre-wrap>NA                </span>                                                                                                                          </td><td>794664579834015745                                                                                                                                                                  </td><td><span style=white-space:pre-wrap>NA    </span>                                                                                                                                      </td><td>&lt;a href=\"http://twitter.com\" rel=\"nofollow\"&gt;Twitter Web Client&lt;/a&gt;                                                                                                      </td><td>BarackObama                                                                                                                                                                         </td><td><span style=white-space:pre-wrap>  8927</span>                                                                                                                                      </td><td>FALSE                                                                                                                                                                               </td><td>FALSE                                                                                                                                                                               </td><td>NA                                                                                                                                                                                  </td><td>NA                                                                                                                                                                                  </td></tr>\n",
       "\t<tr><td><span style=white-space:pre-wrap>The landmark #ParisAgreement enters into force today—we must keep up the momentum to #ActOnClimate. https://t.co/Cyw5Udaoro                 </span></td><td>FALSE                                                                                                                                                                               </td><td><span style=white-space:pre-wrap>  21028</span>                                                                                                                                     </td><td><span style=white-space:pre-wrap>NA         </span>                                                                                                                                 </td><td>2016-11-04 18:25:16                                                                                                                                                                 </td><td>FALSE                                                                                                                                                                               </td><td><span style=white-space:pre-wrap>NA                </span>                                                                                                                          </td><td>794606453197774849                                                                                                                                                                  </td><td><span style=white-space:pre-wrap>NA    </span>                                                                                                                                      </td><td>&lt;a href=\"http://twitter.com\" rel=\"nofollow\"&gt;Twitter Web Client&lt;/a&gt;                                                                                                      </td><td>BarackObama                                                                                                                                                                         </td><td><span style=white-space:pre-wrap>  5593</span>                                                                                                                                      </td><td>FALSE                                                                                                                                                                               </td><td>FALSE                                                                                                                                                                               </td><td>NA                                                                                                                                                                                  </td><td>NA                                                                                                                                                                                  </td></tr>\n",
       "\t<tr><td><span style=white-space:pre-wrap>The economy added 161,000 jobs in October, and wages are up 2.8 percent over the past year. https://t.co/pJxjgLnjCt #JobsReport             </span></td><td>FALSE                                                                                                                                                                               </td><td><span style=white-space:pre-wrap>  14017</span>                                                                                                                                     </td><td><span style=white-space:pre-wrap>NA         </span>                                                                                                                                 </td><td>2016-11-04 16:12:12                                                                                                                                                                 </td><td>FALSE                                                                                                                                                                               </td><td><span style=white-space:pre-wrap>NA                </span>                                                                                                                          </td><td>794572967258640384                                                                                                                                                                  </td><td><span style=white-space:pre-wrap>NA    </span>                                                                                                                                      </td><td>&lt;a href=\"http://twitter.com\" rel=\"nofollow\"&gt;Twitter Web Client&lt;/a&gt;                                                                                                      </td><td>BarackObama                                                                                                                                                                         </td><td><span style=white-space:pre-wrap>  3573</span>                                                                                                                                      </td><td>FALSE                                                                                                                                                                               </td><td>FALSE                                                                                                                                                                               </td><td>NA                                                                                                                                                                                  </td><td>NA                                                                                                                                                                                  </td></tr>\n",
       "\t<tr><td><span style=white-space:pre-wrap>There are a lot of plans out there. Check your options and lock in the one that's best for you: https://t.co/buFY9ozDz4 #GetCovered         </span></td><td>FALSE                                                                                                                                                                               </td><td><span style=white-space:pre-wrap>   6217</span>                                                                                                                                     </td><td><span style=white-space:pre-wrap>NA         </span>                                                                                                                                 </td><td>2016-11-03 21:02:36                                                                                                                                                                 </td><td>FALSE                                                                                                                                                                               </td><td><span style=white-space:pre-wrap>NA                </span>                                                                                                                          </td><td>794283659079520256                                                                                                                                                                  </td><td><span style=white-space:pre-wrap>NA    </span>                                                                                                                                      </td><td>&lt;a href=\"http://twitter.com\" rel=\"nofollow\"&gt;Twitter Web Client&lt;/a&gt;                                                                                                      </td><td>BarackObama                                                                                                                                                                         </td><td><span style=white-space:pre-wrap>  1227</span>                                                                                                                                      </td><td>FALSE                                                                                                                                                                               </td><td>FALSE                                                                                                                                                                               </td><td>NA                                                                                                                                                                                  </td><td>NA                                                                                                                                                                                  </td></tr>\n",
       "\t<tr><td><span style=white-space:pre-wrap>The positive impact of #Obamacare is undeniable, but there's one big factor holding many states back: https://t.co/7XebIdRX34               </span></td><td>FALSE                                                                                                                                                                               </td><td><span style=white-space:pre-wrap>   8411</span>                                                                                                                                     </td><td><span style=white-space:pre-wrap>NA         </span>                                                                                                                                 </td><td>2016-11-03 19:08:49                                                                                                                                                                 </td><td>FALSE                                                                                                                                                                               </td><td><span style=white-space:pre-wrap>NA                </span>                                                                                                                          </td><td>794255026570993664                                                                                                                                                                  </td><td><span style=white-space:pre-wrap>NA    </span>                                                                                                                                      </td><td>&lt;a href=\"http://twitter.com\" rel=\"nofollow\"&gt;Twitter Web Client&lt;/a&gt;                                                                                                      </td><td>BarackObama                                                                                                                                                                         </td><td><span style=white-space:pre-wrap>  1530</span>                                                                                                                                      </td><td>FALSE                                                                                                                                                                               </td><td>FALSE                                                                                                                                                                               </td><td>NA                                                                                                                                                                                  </td><td>NA                                                                                                                                                                                  </td></tr>\n",
       "\t<tr><td><span style=white-space:pre-wrap>Tens of millions of Americans have benefited from #Obamacare. Make sure you're one of them. #GetCovered https://t.co/e1KoXcPtpU             </span></td><td>FALSE                                                                                                                                                                               </td><td><span style=white-space:pre-wrap>   8443</span>                                                                                                                                     </td><td><span style=white-space:pre-wrap>NA         </span>                                                                                                                                 </td><td>2016-11-02 18:22:43                                                                                                                                                                 </td><td>FALSE                                                                                                                                                                               </td><td><span style=white-space:pre-wrap>NA                </span>                                                                                                                          </td><td>793881038862757888                                                                                                                                                                  </td><td><span style=white-space:pre-wrap>NA    </span>                                                                                                                                      </td><td>&lt;a href=\"http://twitter.com\" rel=\"nofollow\"&gt;Twitter Web Client&lt;/a&gt;                                                                                                      </td><td>BarackObama                                                                                                                                                                         </td><td><span style=white-space:pre-wrap>  1703</span>                                                                                                                                      </td><td>FALSE                                                                                                                                                                               </td><td>FALSE                                                                                                                                                                               </td><td>NA                                                                                                                                                                                  </td><td>NA                                                                                                                                                                                  </td></tr>\n",
       "\t<tr><td>Thanks to #Obamacare, quality health care is available to everyone. The marketplace is now open—make sure you and y… https://t.co/89gl6pzMGD</td><td>FALSE                                                                                                                                       </td><td><span style=white-space:pre-wrap>  11728</span>                                                                                             </td><td><span style=white-space:pre-wrap>NA         </span>                                                                                         </td><td>2016-11-02 15:13:34                                                                                                                         </td><td> TRUE                                                                                                                                       </td><td><span style=white-space:pre-wrap>NA                </span>                                                                                  </td><td>793833434850349056                                                                                                                          </td><td><span style=white-space:pre-wrap>NA    </span>                                                                                              </td><td>&lt;a href=\"http://twitter.com\" rel=\"nofollow\"&gt;Twitter Web Client&lt;/a&gt;                                                              </td><td>BarackObama                                                                                                                                 </td><td><span style=white-space:pre-wrap>  2732</span>                                                                                              </td><td>FALSE                                                                                                                                       </td><td>FALSE                                                                                                                                       </td><td>NA                                                                                                                                          </td><td>NA                                                                                                                                          </td></tr>\n",
       "\t<tr><td><span style=white-space:pre-wrap>Community organizing never goes out of style. Shop now: https://t.co/LXEbQdKLLT https://t.co/E56ofoU36i                                     </span></td><td>FALSE                                                                                                                                                                               </td><td><span style=white-space:pre-wrap>   3823</span>                                                                                                                                     </td><td><span style=white-space:pre-wrap>NA         </span>                                                                                                                                 </td><td>2016-11-01 20:17:35                                                                                                                                                                 </td><td>FALSE                                                                                                                                                                               </td><td><span style=white-space:pre-wrap>NA                </span>                                                                                                                          </td><td>793547555204280320                                                                                                                                                                  </td><td><span style=white-space:pre-wrap>NA    </span>                                                                                                                                      </td><td>&lt;a href=\"http://twitter.com\" rel=\"nofollow\"&gt;Twitter Web Client&lt;/a&gt;                                                                                                      </td><td>BarackObama                                                                                                                                                                         </td><td><span style=white-space:pre-wrap>   637</span>                                                                                                                                      </td><td>FALSE                                                                                                                                                                               </td><td>FALSE                                                                                                                                                                               </td><td>NA                                                                                                                                                                                  </td><td>NA                                                                                                                                                                                  </td></tr>\n",
       "</tbody>\n",
       "</table>\n"
      ],
      "text/latex": [
       "\\begin{tabular}{r|llllllllllllllll}\n",
       " text & favorited & favoriteCount & replyToSN & created & truncated & replyToSID & id & replyToUID & statusSource & screenName & retweetCount & isRetweet & retweeted & longitude & latitude\\\\\n",
       "\\hline\n",
       "\t We asked. You answered. https://t.co/mAJvko6VqR                                                                                              & FALSE                                                                                                                                        &   65307                                                                                                                                      & NA                                                                                                                                           & 2017-02-17 19:37:55                                                                                                                          & FALSE                                                                                                                                        & NA                                                                                                                                           & 832675462325243906                                                                                                                           & NA                                                                                                                                           & <a href=\"http://twitter.com\" rel=\"nofollow\">Twitter Web Client</a>                                                                           & BarackObama                                                                                                                                  &  15293                                                                                                                                       & FALSE                                                                                                                                        & FALSE                                                                                                                                        & NA                                                                                                                                           & NA                                                                                                                                          \\\\\n",
       "\t Happy Valentine’s Day, @michelleobama! Almost 28 years with you, but it always feels new. https://t.co/O0UhJWoqGN                            & FALSE                                                                                                                                        & 1011282                                                                                                                                      & NA                                                                                                                                           & 2017-02-14 15:34:47                                                                                                                          & FALSE                                                                                                                                        & NA                                                                                                                                           & 831527113211645959                                                                                                                           & NA                                                                                                                                           & <a href=\"http://twitter.com\" rel=\"nofollow\">Twitter Web Client</a>                                                                           & BarackObama                                                                                                                                  & 250735                                                                                                                                       & FALSE                                                                                                                                        & FALSE                                                                                                                                        & NA                                                                                                                                           & NA                                                                                                                                          \\\\\n",
       "\t I read letters like these every single day. It was one of the best parts of the job – hearing from you. https://t.co/so1luBcszV              & FALSE                                                                                                                                        &  227896                                                                                                                                      & NA                                                                                                                                           & 2017-01-22 18:07:02                                                                                                                          & FALSE                                                                                                                                        & NA                                                                                                                                           & 823230505546117120                                                                                                                           & NA                                                                                                                                           & <a href=\"http://twitter.com\" rel=\"nofollow\">Twitter Web Client</a>                                                                           & BarackObama                                                                                                                                  &  34171                                                                                                                                       & FALSE                                                                                                                                        & FALSE                                                                                                                                        & NA                                                                                                                                           & NA                                                                                                                                          \\\\\n",
       "\t In the meantime, I want to hear what you're thinking about the road ahead. So share your ideas with me here: https://t.co/GYkEOK8EuT         & FALSE                                                                                                                                        &  234243                                                                                                                                      & BarackObama                                                                                                                                  & 2017-01-20 21:05:04                                                                                                                          & FALSE                                                                                                                                        & 822550300942856193                                                                                                                           & 822550536469803009                                                                                                                           & 813286                                                                                                                                       & <a href=\"http://twitter.com\" rel=\"nofollow\">Twitter Web Client</a>                                                                           & BarackObama                                                                                                                                  &  53951                                                                                                                                       & FALSE                                                                                                                                        & FALSE                                                                                                                                        & NA                                                                                                                                           & NA                                                                                                                                          \\\\\n",
       "\t Hi everybody! Back to the original handle. Is this thing still on? Michelle and I are off on a quick vacation, then we’ll get back to work.  & FALSE                                                                                                                                        & 1882009                                                                                                                                      & NA                                                                                                                                           & 2017-01-20 21:04:08                                                                                                                          & FALSE                                                                                                                                        & NA                                                                                                                                           & 822550300942856193                                                                                                                           & NA                                                                                                                                           & <a href=\"http://twitter.com\" rel=\"nofollow\">Twitter Web Client</a>                                                                           & BarackObama                                                                                                                                  & 448361                                                                                                                                       & FALSE                                                                                                                                        & FALSE                                                                                                                                        & NA                                                                                                                                           & NA                                                                                                                                          \\\\\n",
       "\t Tonight, President Obama reflects on eight years of progress. Watch the \\#FarewellAddress at 9 pm ET: https://t.co/ZnwTsg155B \\#ObamaFarewell  & FALSE                                                                                                                                            &   71282                                                                                                                                          & NA                                                                                                                                               & 2017-01-10 23:44:14                                                                                                                              & FALSE                                                                                                                                            & NA                                                                                                                                               & 818966711995088896                                                                                                                               & NA                                                                                                                                               & <a href=\"http://twitter.com\" rel=\"nofollow\">Twitter Web Client</a>                                                                               & BarackObama                                                                                                                                      &  13653                                                                                                                                           & FALSE                                                                                                                                            & FALSE                                                                                                                                            & NA                                                                                                                                               & NA                                                                                                                                              \\\\\n",
       "\t In the weekly address, President Obama discusses what \\#Obamacare has done to improve health care. https://t.co/VdQlyrSZhx                    & FALSE                                                                                                                                          &   25233                                                                                                                                        & NA                                                                                                                                             & 2016-11-05 15:38:53                                                                                                                            & FALSE                                                                                                                                          & NA                                                                                                                                             & 794926969829920768                                                                                                                             & NA                                                                                                                                             & <a href=\"http://twitter.com\" rel=\"nofollow\">Twitter Web Client</a>                                                                             & BarackObama                                                                                                                                    &   4128                                                                                                                                         & FALSE                                                                                                                                          & FALSE                                                                                                                                          & NA                                                                                                                                             & NA                                                                                                                                            \\\\\n",
       "\t Let's keep working to keep our economy on a better, stronger course. https://t.co/bV2BVjyj7a                                                 & FALSE                                                                                                                                        &   40756                                                                                                                                      & NA                                                                                                                                           & 2016-11-04 22:16:14                                                                                                                          & FALSE                                                                                                                                        & NA                                                                                                                                           & 794664579834015745                                                                                                                           & NA                                                                                                                                           & <a href=\"http://twitter.com\" rel=\"nofollow\">Twitter Web Client</a>                                                                           & BarackObama                                                                                                                                  &   8927                                                                                                                                       & FALSE                                                                                                                                        & FALSE                                                                                                                                        & NA                                                                                                                                           & NA                                                                                                                                          \\\\\n",
       "\t The landmark \\#ParisAgreement enters into force today—we must keep up the momentum to \\#ActOnClimate. https://t.co/Cyw5Udaoro                  & FALSE                                                                                                                                            &   21028                                                                                                                                          & NA                                                                                                                                               & 2016-11-04 18:25:16                                                                                                                              & FALSE                                                                                                                                            & NA                                                                                                                                               & 794606453197774849                                                                                                                               & NA                                                                                                                                               & <a href=\"http://twitter.com\" rel=\"nofollow\">Twitter Web Client</a>                                                                               & BarackObama                                                                                                                                      &   5593                                                                                                                                           & FALSE                                                                                                                                            & FALSE                                                                                                                                            & NA                                                                                                                                               & NA                                                                                                                                              \\\\\n",
       "\t The economy added 161,000 jobs in October, and wages are up 2.8 percent over the past year. https://t.co/pJxjgLnjCt \\#JobsReport              & FALSE                                                                                                                                          &   14017                                                                                                                                        & NA                                                                                                                                             & 2016-11-04 16:12:12                                                                                                                            & FALSE                                                                                                                                          & NA                                                                                                                                             & 794572967258640384                                                                                                                             & NA                                                                                                                                             & <a href=\"http://twitter.com\" rel=\"nofollow\">Twitter Web Client</a>                                                                             & BarackObama                                                                                                                                    &   3573                                                                                                                                         & FALSE                                                                                                                                          & FALSE                                                                                                                                          & NA                                                                                                                                             & NA                                                                                                                                            \\\\\n",
       "\t There are a lot of plans out there. Check your options and lock in the one that's best for you: https://t.co/buFY9ozDz4 \\#GetCovered          & FALSE                                                                                                                                          &    6217                                                                                                                                        & NA                                                                                                                                             & 2016-11-03 21:02:36                                                                                                                            & FALSE                                                                                                                                          & NA                                                                                                                                             & 794283659079520256                                                                                                                             & NA                                                                                                                                             & <a href=\"http://twitter.com\" rel=\"nofollow\">Twitter Web Client</a>                                                                             & BarackObama                                                                                                                                    &   1227                                                                                                                                         & FALSE                                                                                                                                          & FALSE                                                                                                                                          & NA                                                                                                                                             & NA                                                                                                                                            \\\\\n",
       "\t The positive impact of \\#Obamacare is undeniable, but there's one big factor holding many states back: https://t.co/7XebIdRX34                & FALSE                                                                                                                                          &    8411                                                                                                                                        & NA                                                                                                                                             & 2016-11-03 19:08:49                                                                                                                            & FALSE                                                                                                                                          & NA                                                                                                                                             & 794255026570993664                                                                                                                             & NA                                                                                                                                             & <a href=\"http://twitter.com\" rel=\"nofollow\">Twitter Web Client</a>                                                                             & BarackObama                                                                                                                                    &   1530                                                                                                                                         & FALSE                                                                                                                                          & FALSE                                                                                                                                          & NA                                                                                                                                             & NA                                                                                                                                            \\\\\n",
       "\t Tens of millions of Americans have benefited from \\#Obamacare. Make sure you're one of them. \\#GetCovered https://t.co/e1KoXcPtpU              & FALSE                                                                                                                                            &    8443                                                                                                                                          & NA                                                                                                                                               & 2016-11-02 18:22:43                                                                                                                              & FALSE                                                                                                                                            & NA                                                                                                                                               & 793881038862757888                                                                                                                               & NA                                                                                                                                               & <a href=\"http://twitter.com\" rel=\"nofollow\">Twitter Web Client</a>                                                                               & BarackObama                                                                                                                                      &   1703                                                                                                                                           & FALSE                                                                                                                                            & FALSE                                                                                                                                            & NA                                                                                                                                               & NA                                                                                                                                              \\\\\n",
       "\t Thanks to \\#Obamacare, quality health care is available to everyone. The marketplace is now open—make sure you and y… https://t.co/89gl6pzMGD & FALSE                                                                                                                                          &   11728                                                                                                                                        & NA                                                                                                                                             & 2016-11-02 15:13:34                                                                                                                            &  TRUE                                                                                                                                          & NA                                                                                                                                             & 793833434850349056                                                                                                                             & NA                                                                                                                                             & <a href=\"http://twitter.com\" rel=\"nofollow\">Twitter Web Client</a>                                                                             & BarackObama                                                                                                                                    &   2732                                                                                                                                         & FALSE                                                                                                                                          & FALSE                                                                                                                                          & NA                                                                                                                                             & NA                                                                                                                                            \\\\\n",
       "\t Community organizing never goes out of style. Shop now: https://t.co/LXEbQdKLLT https://t.co/E56ofoU36i                                      & FALSE                                                                                                                                        &    3823                                                                                                                                      & NA                                                                                                                                           & 2016-11-01 20:17:35                                                                                                                          & FALSE                                                                                                                                        & NA                                                                                                                                           & 793547555204280320                                                                                                                           & NA                                                                                                                                           & <a href=\"http://twitter.com\" rel=\"nofollow\">Twitter Web Client</a>                                                                           & BarackObama                                                                                                                                  &    637                                                                                                                                       & FALSE                                                                                                                                        & FALSE                                                                                                                                        & NA                                                                                                                                           & NA                                                                                                                                          \\\\\n",
       "\\end{tabular}\n"
      ],
      "text/markdown": [
       "\n",
       "text | favorited | favoriteCount | replyToSN | created | truncated | replyToSID | id | replyToUID | statusSource | screenName | retweetCount | isRetweet | retweeted | longitude | latitude | \n",
       "|---|---|---|---|---|---|---|---|---|---|---|---|---|---|---|\n",
       "| We asked. You answered. https://t.co/mAJvko6VqR                                                                                              | FALSE                                                                                                                                        |   65307                                                                                                                                      | NA                                                                                                                                           | 2017-02-17 19:37:55                                                                                                                          | FALSE                                                                                                                                        | NA                                                                                                                                           | 832675462325243906                                                                                                                           | NA                                                                                                                                           | <a href=\"http://twitter.com\" rel=\"nofollow\">Twitter Web Client</a>                                                                           | BarackObama                                                                                                                                  |  15293                                                                                                                                       | FALSE                                                                                                                                        | FALSE                                                                                                                                        | NA                                                                                                                                           | NA                                                                                                                                           | \n",
       "| Happy Valentine’s Day, @michelleobama! Almost 28 years with you, but it always feels new. https://t.co/O0UhJWoqGN                            | FALSE                                                                                                                                        | 1011282                                                                                                                                      | NA                                                                                                                                           | 2017-02-14 15:34:47                                                                                                                          | FALSE                                                                                                                                        | NA                                                                                                                                           | 831527113211645959                                                                                                                           | NA                                                                                                                                           | <a href=\"http://twitter.com\" rel=\"nofollow\">Twitter Web Client</a>                                                                           | BarackObama                                                                                                                                  | 250735                                                                                                                                       | FALSE                                                                                                                                        | FALSE                                                                                                                                        | NA                                                                                                                                           | NA                                                                                                                                           | \n",
       "| I read letters like these every single day. It was one of the best parts of the job – hearing from you. https://t.co/so1luBcszV              | FALSE                                                                                                                                        |  227896                                                                                                                                      | NA                                                                                                                                           | 2017-01-22 18:07:02                                                                                                                          | FALSE                                                                                                                                        | NA                                                                                                                                           | 823230505546117120                                                                                                                           | NA                                                                                                                                           | <a href=\"http://twitter.com\" rel=\"nofollow\">Twitter Web Client</a>                                                                           | BarackObama                                                                                                                                  |  34171                                                                                                                                       | FALSE                                                                                                                                        | FALSE                                                                                                                                        | NA                                                                                                                                           | NA                                                                                                                                           | \n",
       "| In the meantime, I want to hear what you're thinking about the road ahead. So share your ideas with me here: https://t.co/GYkEOK8EuT         | FALSE                                                                                                                                        |  234243                                                                                                                                      | BarackObama                                                                                                                                  | 2017-01-20 21:05:04                                                                                                                          | FALSE                                                                                                                                        | 822550300942856193                                                                                                                           | 822550536469803009                                                                                                                           | 813286                                                                                                                                       | <a href=\"http://twitter.com\" rel=\"nofollow\">Twitter Web Client</a>                                                                           | BarackObama                                                                                                                                  |  53951                                                                                                                                       | FALSE                                                                                                                                        | FALSE                                                                                                                                        | NA                                                                                                                                           | NA                                                                                                                                           | \n",
       "| Hi everybody! Back to the original handle. Is this thing still on? Michelle and I are off on a quick vacation, then we’ll get back to work.  | FALSE                                                                                                                                        | 1882009                                                                                                                                      | NA                                                                                                                                           | 2017-01-20 21:04:08                                                                                                                          | FALSE                                                                                                                                        | NA                                                                                                                                           | 822550300942856193                                                                                                                           | NA                                                                                                                                           | <a href=\"http://twitter.com\" rel=\"nofollow\">Twitter Web Client</a>                                                                           | BarackObama                                                                                                                                  | 448361                                                                                                                                       | FALSE                                                                                                                                        | FALSE                                                                                                                                        | NA                                                                                                                                           | NA                                                                                                                                           | \n",
       "| Tonight, President Obama reflects on eight years of progress. Watch the #FarewellAddress at 9 pm ET: https://t.co/ZnwTsg155B #ObamaFarewell  | FALSE                                                                                                                                        |   71282                                                                                                                                      | NA                                                                                                                                           | 2017-01-10 23:44:14                                                                                                                          | FALSE                                                                                                                                        | NA                                                                                                                                           | 818966711995088896                                                                                                                           | NA                                                                                                                                           | <a href=\"http://twitter.com\" rel=\"nofollow\">Twitter Web Client</a>                                                                           | BarackObama                                                                                                                                  |  13653                                                                                                                                       | FALSE                                                                                                                                        | FALSE                                                                                                                                        | NA                                                                                                                                           | NA                                                                                                                                           | \n",
       "| In the weekly address, President Obama discusses what #Obamacare has done to improve health care. https://t.co/VdQlyrSZhx                    | FALSE                                                                                                                                        |   25233                                                                                                                                      | NA                                                                                                                                           | 2016-11-05 15:38:53                                                                                                                          | FALSE                                                                                                                                        | NA                                                                                                                                           | 794926969829920768                                                                                                                           | NA                                                                                                                                           | <a href=\"http://twitter.com\" rel=\"nofollow\">Twitter Web Client</a>                                                                           | BarackObama                                                                                                                                  |   4128                                                                                                                                       | FALSE                                                                                                                                        | FALSE                                                                                                                                        | NA                                                                                                                                           | NA                                                                                                                                           | \n",
       "| Let's keep working to keep our economy on a better, stronger course. https://t.co/bV2BVjyj7a                                                 | FALSE                                                                                                                                        |   40756                                                                                                                                      | NA                                                                                                                                           | 2016-11-04 22:16:14                                                                                                                          | FALSE                                                                                                                                        | NA                                                                                                                                           | 794664579834015745                                                                                                                           | NA                                                                                                                                           | <a href=\"http://twitter.com\" rel=\"nofollow\">Twitter Web Client</a>                                                                           | BarackObama                                                                                                                                  |   8927                                                                                                                                       | FALSE                                                                                                                                        | FALSE                                                                                                                                        | NA                                                                                                                                           | NA                                                                                                                                           | \n",
       "| The landmark #ParisAgreement enters into force today—we must keep up the momentum to #ActOnClimate. https://t.co/Cyw5Udaoro                  | FALSE                                                                                                                                        |   21028                                                                                                                                      | NA                                                                                                                                           | 2016-11-04 18:25:16                                                                                                                          | FALSE                                                                                                                                        | NA                                                                                                                                           | 794606453197774849                                                                                                                           | NA                                                                                                                                           | <a href=\"http://twitter.com\" rel=\"nofollow\">Twitter Web Client</a>                                                                           | BarackObama                                                                                                                                  |   5593                                                                                                                                       | FALSE                                                                                                                                        | FALSE                                                                                                                                        | NA                                                                                                                                           | NA                                                                                                                                           | \n",
       "| The economy added 161,000 jobs in October, and wages are up 2.8 percent over the past year. https://t.co/pJxjgLnjCt #JobsReport              | FALSE                                                                                                                                        |   14017                                                                                                                                      | NA                                                                                                                                           | 2016-11-04 16:12:12                                                                                                                          | FALSE                                                                                                                                        | NA                                                                                                                                           | 794572967258640384                                                                                                                           | NA                                                                                                                                           | <a href=\"http://twitter.com\" rel=\"nofollow\">Twitter Web Client</a>                                                                           | BarackObama                                                                                                                                  |   3573                                                                                                                                       | FALSE                                                                                                                                        | FALSE                                                                                                                                        | NA                                                                                                                                           | NA                                                                                                                                           | \n",
       "| There are a lot of plans out there. Check your options and lock in the one that's best for you: https://t.co/buFY9ozDz4 #GetCovered          | FALSE                                                                                                                                        |    6217                                                                                                                                      | NA                                                                                                                                           | 2016-11-03 21:02:36                                                                                                                          | FALSE                                                                                                                                        | NA                                                                                                                                           | 794283659079520256                                                                                                                           | NA                                                                                                                                           | <a href=\"http://twitter.com\" rel=\"nofollow\">Twitter Web Client</a>                                                                           | BarackObama                                                                                                                                  |   1227                                                                                                                                       | FALSE                                                                                                                                        | FALSE                                                                                                                                        | NA                                                                                                                                           | NA                                                                                                                                           | \n",
       "| The positive impact of #Obamacare is undeniable, but there's one big factor holding many states back: https://t.co/7XebIdRX34                | FALSE                                                                                                                                        |    8411                                                                                                                                      | NA                                                                                                                                           | 2016-11-03 19:08:49                                                                                                                          | FALSE                                                                                                                                        | NA                                                                                                                                           | 794255026570993664                                                                                                                           | NA                                                                                                                                           | <a href=\"http://twitter.com\" rel=\"nofollow\">Twitter Web Client</a>                                                                           | BarackObama                                                                                                                                  |   1530                                                                                                                                       | FALSE                                                                                                                                        | FALSE                                                                                                                                        | NA                                                                                                                                           | NA                                                                                                                                           | \n",
       "| Tens of millions of Americans have benefited from #Obamacare. Make sure you're one of them. #GetCovered https://t.co/e1KoXcPtpU              | FALSE                                                                                                                                        |    8443                                                                                                                                      | NA                                                                                                                                           | 2016-11-02 18:22:43                                                                                                                          | FALSE                                                                                                                                        | NA                                                                                                                                           | 793881038862757888                                                                                                                           | NA                                                                                                                                           | <a href=\"http://twitter.com\" rel=\"nofollow\">Twitter Web Client</a>                                                                           | BarackObama                                                                                                                                  |   1703                                                                                                                                       | FALSE                                                                                                                                        | FALSE                                                                                                                                        | NA                                                                                                                                           | NA                                                                                                                                           | \n",
       "| Thanks to #Obamacare, quality health care is available to everyone. The marketplace is now open—make sure you and y… https://t.co/89gl6pzMGD | FALSE                                                                                                                                        |   11728                                                                                                                                      | NA                                                                                                                                           | 2016-11-02 15:13:34                                                                                                                          |  TRUE                                                                                                                                        | NA                                                                                                                                           | 793833434850349056                                                                                                                           | NA                                                                                                                                           | <a href=\"http://twitter.com\" rel=\"nofollow\">Twitter Web Client</a>                                                                           | BarackObama                                                                                                                                  |   2732                                                                                                                                       | FALSE                                                                                                                                        | FALSE                                                                                                                                        | NA                                                                                                                                           | NA                                                                                                                                           | \n",
       "| Community organizing never goes out of style. Shop now: https://t.co/LXEbQdKLLT https://t.co/E56ofoU36i                                      | FALSE                                                                                                                                        |    3823                                                                                                                                      | NA                                                                                                                                           | 2016-11-01 20:17:35                                                                                                                          | FALSE                                                                                                                                        | NA                                                                                                                                           | 793547555204280320                                                                                                                           | NA                                                                                                                                           | <a href=\"http://twitter.com\" rel=\"nofollow\">Twitter Web Client</a>                                                                           | BarackObama                                                                                                                                  |    637                                                                                                                                       | FALSE                                                                                                                                        | FALSE                                                                                                                                        | NA                                                                                                                                           | NA                                                                                                                                           | \n",
       "\n",
       "\n"
      ],
      "text/plain": [
       "   text                                                                                                                                        \n",
       "1  We asked. You answered. https://t.co/mAJvko6VqR                                                                                             \n",
       "2  Happy Valentines Day, @michelleobama! Almost 28 years with you, but it always feels new. https://t.co/O0UhJWoqGN                           \n",
       "3  I read letters like these every single day. It was one of the best parts of the job  hearing from you. https://t.co/so1luBcszV             \n",
       "4  In the meantime, I want to hear what you're thinking about the road ahead. So share your ideas with me here: https://t.co/GYkEOK8EuT        \n",
       "5  Hi everybody! Back to the original handle. Is this thing still on? Michelle and I are off on a quick vacation, then well get back to work. \n",
       "6  Tonight, President Obama reflects on eight years of progress. Watch the #FarewellAddress at 9 pm ET: https://t.co/ZnwTsg155B #ObamaFarewell \n",
       "7  In the weekly address, President Obama discusses what #Obamacare has done to improve health care. https://t.co/VdQlyrSZhx                   \n",
       "8  Let's keep working to keep our economy on a better, stronger course. https://t.co/bV2BVjyj7a                                                \n",
       "9  The landmark #ParisAgreement enters into force todaywe must keep up the momentum to #ActOnClimate. https://t.co/Cyw5Udaoro                 \n",
       "10 The economy added 161,000 jobs in October, and wages are up 2.8 percent over the past year. https://t.co/pJxjgLnjCt #JobsReport             \n",
       "11 There are a lot of plans out there. Check your options and lock in the one that's best for you: https://t.co/buFY9ozDz4 #GetCovered         \n",
       "12 The positive impact of #Obamacare is undeniable, but there's one big factor holding many states back: https://t.co/7XebIdRX34               \n",
       "13 Tens of millions of Americans have benefited from #Obamacare. Make sure you're one of them. #GetCovered https://t.co/e1KoXcPtpU             \n",
       "14 Thanks to #Obamacare, quality health care is available to everyone. The marketplace is now openmake sure you and y",
       " https://t.co/89gl6pzMGD\n",
       "15 Community organizing never goes out of style. Shop now: https://t.co/LXEbQdKLLT https://t.co/E56ofoU36i                                     \n",
       "   favorited favoriteCount replyToSN   created             truncated\n",
       "1  FALSE       65307       NA          2017-02-17 19:37:55 FALSE    \n",
       "2  FALSE     1011282       NA          2017-02-14 15:34:47 FALSE    \n",
       "3  FALSE      227896       NA          2017-01-22 18:07:02 FALSE    \n",
       "4  FALSE      234243       BarackObama 2017-01-20 21:05:04 FALSE    \n",
       "5  FALSE     1882009       NA          2017-01-20 21:04:08 FALSE    \n",
       "6  FALSE       71282       NA          2017-01-10 23:44:14 FALSE    \n",
       "7  FALSE       25233       NA          2016-11-05 15:38:53 FALSE    \n",
       "8  FALSE       40756       NA          2016-11-04 22:16:14 FALSE    \n",
       "9  FALSE       21028       NA          2016-11-04 18:25:16 FALSE    \n",
       "10 FALSE       14017       NA          2016-11-04 16:12:12 FALSE    \n",
       "11 FALSE        6217       NA          2016-11-03 21:02:36 FALSE    \n",
       "12 FALSE        8411       NA          2016-11-03 19:08:49 FALSE    \n",
       "13 FALSE        8443       NA          2016-11-02 18:22:43 FALSE    \n",
       "14 FALSE       11728       NA          2016-11-02 15:13:34  TRUE    \n",
       "15 FALSE        3823       NA          2016-11-01 20:17:35 FALSE    \n",
       "   replyToSID         id                 replyToUID\n",
       "1  NA                 832675462325243906 NA        \n",
       "2  NA                 831527113211645959 NA        \n",
       "3  NA                 823230505546117120 NA        \n",
       "4  822550300942856193 822550536469803009 813286    \n",
       "5  NA                 822550300942856193 NA        \n",
       "6  NA                 818966711995088896 NA        \n",
       "7  NA                 794926969829920768 NA        \n",
       "8  NA                 794664579834015745 NA        \n",
       "9  NA                 794606453197774849 NA        \n",
       "10 NA                 794572967258640384 NA        \n",
       "11 NA                 794283659079520256 NA        \n",
       "12 NA                 794255026570993664 NA        \n",
       "13 NA                 793881038862757888 NA        \n",
       "14 NA                 793833434850349056 NA        \n",
       "15 NA                 793547555204280320 NA        \n",
       "   statusSource                                                      \n",
       "1  <a href=\"http://twitter.com\" rel=\"nofollow\">Twitter Web Client</a>\n",
       "2  <a href=\"http://twitter.com\" rel=\"nofollow\">Twitter Web Client</a>\n",
       "3  <a href=\"http://twitter.com\" rel=\"nofollow\">Twitter Web Client</a>\n",
       "4  <a href=\"http://twitter.com\" rel=\"nofollow\">Twitter Web Client</a>\n",
       "5  <a href=\"http://twitter.com\" rel=\"nofollow\">Twitter Web Client</a>\n",
       "6  <a href=\"http://twitter.com\" rel=\"nofollow\">Twitter Web Client</a>\n",
       "7  <a href=\"http://twitter.com\" rel=\"nofollow\">Twitter Web Client</a>\n",
       "8  <a href=\"http://twitter.com\" rel=\"nofollow\">Twitter Web Client</a>\n",
       "9  <a href=\"http://twitter.com\" rel=\"nofollow\">Twitter Web Client</a>\n",
       "10 <a href=\"http://twitter.com\" rel=\"nofollow\">Twitter Web Client</a>\n",
       "11 <a href=\"http://twitter.com\" rel=\"nofollow\">Twitter Web Client</a>\n",
       "12 <a href=\"http://twitter.com\" rel=\"nofollow\">Twitter Web Client</a>\n",
       "13 <a href=\"http://twitter.com\" rel=\"nofollow\">Twitter Web Client</a>\n",
       "14 <a href=\"http://twitter.com\" rel=\"nofollow\">Twitter Web Client</a>\n",
       "15 <a href=\"http://twitter.com\" rel=\"nofollow\">Twitter Web Client</a>\n",
       "   screenName  retweetCount isRetweet retweeted longitude latitude\n",
       "1  BarackObama  15293       FALSE     FALSE     NA        NA      \n",
       "2  BarackObama 250735       FALSE     FALSE     NA        NA      \n",
       "3  BarackObama  34171       FALSE     FALSE     NA        NA      \n",
       "4  BarackObama  53951       FALSE     FALSE     NA        NA      \n",
       "5  BarackObama 448361       FALSE     FALSE     NA        NA      \n",
       "6  BarackObama  13653       FALSE     FALSE     NA        NA      \n",
       "7  BarackObama   4128       FALSE     FALSE     NA        NA      \n",
       "8  BarackObama   8927       FALSE     FALSE     NA        NA      \n",
       "9  BarackObama   5593       FALSE     FALSE     NA        NA      \n",
       "10 BarackObama   3573       FALSE     FALSE     NA        NA      \n",
       "11 BarackObama   1227       FALSE     FALSE     NA        NA      \n",
       "12 BarackObama   1530       FALSE     FALSE     NA        NA      \n",
       "13 BarackObama   1703       FALSE     FALSE     NA        NA      \n",
       "14 BarackObama   2732       FALSE     FALSE     NA        NA      \n",
       "15 BarackObama    637       FALSE     FALSE     NA        NA      "
      ]
     },
     "metadata": {},
     "output_type": "display_data"
    }
   ],
   "source": [
    "#Converting a list to a data frame\n",
    "obamaFrame <- twListToDF(myTimeline)\n",
    "obamaFrame"
   ]
  },
  {
   "cell_type": "code",
   "execution_count": 24,
   "metadata": {
    "collapsed": true
   },
   "outputs": [],
   "source": [
    "#Autotweet\n",
    "auto <- updateStatus('First autotweet using R')\n"
   ]
  },
  {
   "cell_type": "code",
   "execution_count": 23,
   "metadata": {
    "collapsed": false
   },
   "outputs": [
    {
     "ename": "ERROR",
     "evalue": "Error in inherits(status, \"status\"): object 'auto' not found\n",
     "output_type": "error",
     "traceback": [
      "Error in inherits(status, \"status\"): object 'auto' not found\nTraceback:\n",
      "1. deleteStatus(auto)",
      "2. inherits(status, \"status\")"
     ]
    }
   ],
   "source": [
    "#Deleting autotweet\n",
    "deleteStatus(auto)"
   ]
  },
  {
   "cell_type": "code",
   "execution_count": 26,
   "metadata": {
    "collapsed": false
   },
   "outputs": [
    {
     "data": {
      "text/html": [
       "'http://bit.ly/23226se656'"
      ],
      "text/latex": [
       "'http://bit.ly/23226se656'"
      ],
      "text/markdown": [
       "'http://bit.ly/23226se656'"
      ],
      "text/plain": [
       "[1] \"http://bit.ly/23226se656\""
      ]
     },
     "metadata": {},
     "output_type": "display_data"
    }
   ],
   "source": [
    "#Decoding a short URL\n",
    "library(xml2)\n",
    "decode_short_url(\"http://bit.ly/23226se656\")"
   ]
  },
  {
   "cell_type": "code",
   "execution_count": 30,
   "metadata": {
    "collapsed": false
   },
   "outputs": [
    {
     "ename": "ERROR",
     "evalue": "Error in twInterfaceObj$doAPICall(cmd, params, method, ...): Forbidden (HTTP 403).\n",
     "output_type": "error",
     "traceback": [
      "Error in twInterfaceObj$doAPICall(cmd, params, method, ...): Forbidden (HTTP 403).\nTraceback:\n",
      "1. dmGet(n = 2, sinceID = NULL, maxID = NULL)",
      "2. dmGETBase(n, sinceID, maxID)",
      "3. doPagedAPICall(paste(\"direct_messages\", type, sep = \"\"), num = n, \n .     params = params, ...)",
      "4. twInterfaceObj$doAPICall(cmd, params, method, ...)",
      "5. stop_for_status(out)"
     ]
    }
   ],
   "source": [
    "#Direct Messages\n",
    "dir <- dmGet(n=2,  sinceID=NULL, maxID=NULL)"
   ]
  },
  {
   "cell_type": "code",
   "execution_count": 37,
   "metadata": {
    "collapsed": false
   },
   "outputs": [
    {
     "ename": "ERROR",
     "evalue": "Error in parse(text = x, srcfile = src): <text>:1:31: unexpected ','\n1: dmSend((\"Testing out twitteR!\",\n                                  ^\n",
     "output_type": "error",
     "traceback": [
      "Error in parse(text = x, srcfile = src): <text>:1:31: unexpected ','\n1: dmSend((\"Testing out twitteR!\",\n                                  ^\nTraceback:\n"
     ]
    }
   ],
   "source": [
    "dmSend((\"Testing out twitteR!\",\"twitter\"))"
   ]
  },
  {
   "cell_type": "code",
   "execution_count": 32,
   "metadata": {
    "collapsed": false
   },
   "outputs": [
    {
     "data": {
      "text/html": [
       "<table>\n",
       "<thead><tr><th scope=col>name</th><th scope=col>screen_name</th><th scope=col>id</th><th scope=col>following</th><th scope=col>followed_by</th></tr></thead>\n",
       "<tbody>\n",
       "\t<tr><td>Navneet Nandi     </td><td>TheNavneetNandi   </td><td>771914996603379712</td><td>FALSE             </td><td>FALSE             </td></tr>\n",
       "</tbody>\n",
       "</table>\n"
      ],
      "text/latex": [
       "\\begin{tabular}{r|lllll}\n",
       " name & screen\\_name & id & following & followed\\_by\\\\\n",
       "\\hline\n",
       "\t Navneet Nandi      & TheNavneetNandi    & 771914996603379712 & FALSE              & FALSE             \\\\\n",
       "\\end{tabular}\n"
      ],
      "text/markdown": [
       "\n",
       "name | screen_name | id | following | followed_by | \n",
       "|---|\n",
       "| Navneet Nandi      | TheNavneetNandi    | 771914996603379712 | FALSE              | FALSE              | \n",
       "\n",
       "\n"
      ],
      "text/plain": [
       "  name          screen_name     id                 following followed_by\n",
       "1 Navneet Nandi TheNavneetNandi 771914996603379712 FALSE     FALSE      "
      ]
     },
     "metadata": {},
     "output_type": "display_data"
    }
   ],
   "source": [
    "friendships('TheNavneetNandi')"
   ]
  },
  {
   "cell_type": "code",
   "execution_count": 38,
   "metadata": {
    "collapsed": false
   },
   "outputs": [
    {
     "data": {
      "text/html": [
       "<table>\n",
       "<thead><tr><th scope=col>resource</th><th scope=col>limit</th><th scope=col>remaining</th><th scope=col>reset</th></tr></thead>\n",
       "<tbody>\n",
       "\t<tr><td>/lists/list                     </td><td>15                              </td><td>15                              </td><td>2017-02-19 01:03:04             </td></tr>\n",
       "\t<tr><td>/lists/memberships              </td><td>75                              </td><td>75                              </td><td>2017-02-19 01:03:04             </td></tr>\n",
       "\t<tr><td>/lists/subscribers/show         </td><td>15                              </td><td>15                              </td><td>2017-02-19 01:03:04             </td></tr>\n",
       "\t<tr><td>/lists/members                  </td><td>900                             </td><td>900                             </td><td>2017-02-19 01:03:04             </td></tr>\n",
       "\t<tr><td>/lists/subscriptions            </td><td>15                              </td><td>15                              </td><td>2017-02-19 01:03:04             </td></tr>\n",
       "\t<tr><td>/lists/show                     </td><td>75                              </td><td>75                              </td><td>2017-02-19 01:03:04             </td></tr>\n",
       "\t<tr><td>/lists/ownerships               </td><td>15                              </td><td>15                              </td><td>2017-02-19 01:03:04             </td></tr>\n",
       "\t<tr><td>/lists/subscribers              </td><td>180                             </td><td>180                             </td><td>2017-02-19 01:03:04             </td></tr>\n",
       "\t<tr><td>/lists/members/show             </td><td>15                              </td><td>15                              </td><td>2017-02-19 01:03:04             </td></tr>\n",
       "\t<tr><td>/lists/statuses                 </td><td>900                             </td><td>900                             </td><td>2017-02-19 01:03:04             </td></tr>\n",
       "\t<tr><td>/users/report_spam              </td><td>15                              </td><td>15                              </td><td>2017-02-19 01:03:04             </td></tr>\n",
       "\t<tr><td>/users/show/:id                 </td><td>900                             </td><td>900                             </td><td>2017-02-19 01:03:04             </td></tr>\n",
       "\t<tr><td>/users/search                   </td><td>900                             </td><td>900                             </td><td>2017-02-19 01:03:04             </td></tr>\n",
       "\t<tr><td>/users/suggestions/:slug        </td><td>15                              </td><td>15                              </td><td>2017-02-19 01:03:04             </td></tr>\n",
       "\t<tr><td>/users/derived_info             </td><td>15                              </td><td>15                              </td><td>2017-02-19 01:03:04             </td></tr>\n",
       "\t<tr><td>/users/profile_banner           </td><td>180                             </td><td>180                             </td><td>2017-02-19 01:03:04             </td></tr>\n",
       "\t<tr><td>/users/suggestions/:slug/members</td><td>15                              </td><td>15                              </td><td>2017-02-19 01:03:04             </td></tr>\n",
       "\t<tr><td>/users/lookup                   </td><td>900                             </td><td>900                             </td><td>2017-02-19 01:03:04             </td></tr>\n",
       "\t<tr><td>/users/suggestions              </td><td>15                              </td><td>15                              </td><td>2017-02-19 01:03:04             </td></tr>\n",
       "</tbody>\n",
       "</table>\n"
      ],
      "text/latex": [
       "\\begin{tabular}{r|llll}\n",
       " resource & limit & remaining & reset\\\\\n",
       "\\hline\n",
       "\t /lists/list                      & 15                               & 15                               & 2017-02-19 01:03:04             \\\\\n",
       "\t /lists/memberships               & 75                               & 75                               & 2017-02-19 01:03:04             \\\\\n",
       "\t /lists/subscribers/show          & 15                               & 15                               & 2017-02-19 01:03:04             \\\\\n",
       "\t /lists/members                   & 900                              & 900                              & 2017-02-19 01:03:04             \\\\\n",
       "\t /lists/subscriptions             & 15                               & 15                               & 2017-02-19 01:03:04             \\\\\n",
       "\t /lists/show                      & 75                               & 75                               & 2017-02-19 01:03:04             \\\\\n",
       "\t /lists/ownerships                & 15                               & 15                               & 2017-02-19 01:03:04             \\\\\n",
       "\t /lists/subscribers               & 180                              & 180                              & 2017-02-19 01:03:04             \\\\\n",
       "\t /lists/members/show              & 15                               & 15                               & 2017-02-19 01:03:04             \\\\\n",
       "\t /lists/statuses                  & 900                              & 900                              & 2017-02-19 01:03:04             \\\\\n",
       "\t /users/report\\_spam               & 15                                 & 15                                 & 2017-02-19 01:03:04               \\\\\n",
       "\t /users/show/:id                  & 900                              & 900                              & 2017-02-19 01:03:04             \\\\\n",
       "\t /users/search                    & 900                              & 900                              & 2017-02-19 01:03:04             \\\\\n",
       "\t /users/suggestions/:slug         & 15                               & 15                               & 2017-02-19 01:03:04             \\\\\n",
       "\t /users/derived\\_info              & 15                                 & 15                                 & 2017-02-19 01:03:04               \\\\\n",
       "\t /users/profile\\_banner            & 180                                & 180                                & 2017-02-19 01:03:04               \\\\\n",
       "\t /users/suggestions/:slug/members & 15                               & 15                               & 2017-02-19 01:03:04             \\\\\n",
       "\t /users/lookup                    & 900                              & 900                              & 2017-02-19 01:03:04             \\\\\n",
       "\t /users/suggestions               & 15                               & 15                               & 2017-02-19 01:03:04             \\\\\n",
       "\\end{tabular}\n"
      ],
      "text/markdown": [
       "\n",
       "resource | limit | remaining | reset | \n",
       "|---|---|---|---|---|---|---|---|---|---|---|---|---|---|---|---|---|---|---|\n",
       "| /lists/list                      | 15                               | 15                               | 2017-02-19 01:03:04              | \n",
       "| /lists/memberships               | 75                               | 75                               | 2017-02-19 01:03:04              | \n",
       "| /lists/subscribers/show          | 15                               | 15                               | 2017-02-19 01:03:04              | \n",
       "| /lists/members                   | 900                              | 900                              | 2017-02-19 01:03:04              | \n",
       "| /lists/subscriptions             | 15                               | 15                               | 2017-02-19 01:03:04              | \n",
       "| /lists/show                      | 75                               | 75                               | 2017-02-19 01:03:04              | \n",
       "| /lists/ownerships                | 15                               | 15                               | 2017-02-19 01:03:04              | \n",
       "| /lists/subscribers               | 180                              | 180                              | 2017-02-19 01:03:04              | \n",
       "| /lists/members/show              | 15                               | 15                               | 2017-02-19 01:03:04              | \n",
       "| /lists/statuses                  | 900                              | 900                              | 2017-02-19 01:03:04              | \n",
       "| /users/report_spam               | 15                               | 15                               | 2017-02-19 01:03:04              | \n",
       "| /users/show/:id                  | 900                              | 900                              | 2017-02-19 01:03:04              | \n",
       "| /users/search                    | 900                              | 900                              | 2017-02-19 01:03:04              | \n",
       "| /users/suggestions/:slug         | 15                               | 15                               | 2017-02-19 01:03:04              | \n",
       "| /users/derived_info              | 15                               | 15                               | 2017-02-19 01:03:04              | \n",
       "| /users/profile_banner            | 180                              | 180                              | 2017-02-19 01:03:04              | \n",
       "| /users/suggestions/:slug/members | 15                               | 15                               | 2017-02-19 01:03:04              | \n",
       "| /users/lookup                    | 900                              | 900                              | 2017-02-19 01:03:04              | \n",
       "| /users/suggestions               | 15                               | 15                               | 2017-02-19 01:03:04              | \n",
       "\n",
       "\n"
      ],
      "text/plain": [
       "   resource                         limit remaining reset              \n",
       "1  /lists/list                      15    15        2017-02-19 01:03:04\n",
       "2  /lists/memberships               75    75        2017-02-19 01:03:04\n",
       "3  /lists/subscribers/show          15    15        2017-02-19 01:03:04\n",
       "4  /lists/members                   900   900       2017-02-19 01:03:04\n",
       "5  /lists/subscriptions             15    15        2017-02-19 01:03:04\n",
       "6  /lists/show                      75    75        2017-02-19 01:03:04\n",
       "7  /lists/ownerships                15    15        2017-02-19 01:03:04\n",
       "8  /lists/subscribers               180   180       2017-02-19 01:03:04\n",
       "9  /lists/members/show              15    15        2017-02-19 01:03:04\n",
       "10 /lists/statuses                  900   900       2017-02-19 01:03:04\n",
       "11 /users/report_spam               15    15        2017-02-19 01:03:04\n",
       "12 /users/show/:id                  900   900       2017-02-19 01:03:04\n",
       "13 /users/search                    900   900       2017-02-19 01:03:04\n",
       "14 /users/suggestions/:slug         15    15        2017-02-19 01:03:04\n",
       "15 /users/derived_info              15    15        2017-02-19 01:03:04\n",
       "16 /users/profile_banner            180   180       2017-02-19 01:03:04\n",
       "17 /users/suggestions/:slug/members 15    15        2017-02-19 01:03:04\n",
       "18 /users/lookup                    900   900       2017-02-19 01:03:04\n",
       "19 /users/suggestions               15    15        2017-02-19 01:03:04"
      ]
     },
     "metadata": {},
     "output_type": "display_data"
    }
   ],
   "source": [
    "a <- getCurRateLimitInfo(c(\"lists\", \"users\"))\n",
    "a"
   ]
  },
  {
   "cell_type": "code",
   "execution_count": 44,
   "metadata": {
    "collapsed": false
   },
   "outputs": [
    {
     "data": {
      "text/plain": [
       "[[1]]\n",
       "[1] \"PabloLopezSe1: RT @episod: It's 2011. I work at Twitter. And so let's go kick some ass.\"\n",
       "\n",
       "[[2]]\n",
       "[1] \"M260Meburgess: RT @episod: It's 2011. I work at Twitter. And so let's go kick some ass.\"\n",
       "\n",
       "[[3]]\n",
       "[1] \"StanislavEscimo: RT @episod: It's 2011. I work at Twitter. And so let's go kick some ass.\"\n",
       "\n",
       "[[4]]\n",
       "[1] \"eseimbecil: RT @episod: It's 2011. I work at Twitter. And so let's go kick some ass.\"\n",
       "\n",
       "[[5]]\n",
       "[1] \"jigar47: RT @episod: It's 2011. I work at Twitter. And so let's go kick some ass.\"\n",
       "\n",
       "[[6]]\n",
       "[1] \"Ivy_toy: RT @episod: It's 2011. I work at Twitter. And so let's go kick some ass.\"\n",
       "\n",
       "[[7]]\n",
       "[1] \"ewwink: RT @episod: It's 2011. I work at Twitter. And so let's go kick some ass.\"\n",
       "\n",
       "[[8]]\n",
       "[1] \"CSTL3TA02: RT @episod: It's 2011. I work at Twitter. And so let's go kick some ass.\"\n",
       "\n",
       "[[9]]\n",
       "[1] \"cstl3ta05: RT @episod: It's 2011. I work at Twitter. And so let's go kick some ass.\"\n",
       "\n",
       "[[10]]\n",
       "[1] \"cstl3ta04: RT @episod: It's 2011. I work at Twitter. And so let's go kick some ass.\"\n",
       "\n",
       "[[11]]\n",
       "[1] \"parwaniprakash: RT @episod: It's 2011. I work at Twitter. And so let's go kick some ass.\"\n",
       "\n",
       "[[12]]\n",
       "[1] \"manuelmhtr: RT @episod: It's 2011. I work at Twitter. And so let's go kick some ass.\"\n",
       "\n",
       "[[13]]\n",
       "[1] \"bgmangalore: RT @episod: It's 2011. I work at Twitter. And so let's go kick some ass.\"\n",
       "\n",
       "[[14]]\n",
       "[1] \"ana_omgm: RT @episod: It's 2011. I work at Twitter. And so let's go kick some ass.\"\n",
       "\n",
       "[[15]]\n",
       "[1] \"poke78: RT @episod: It's 2011. I work at Twitter. And so let's go kick some ass.\"\n",
       "\n",
       "[[16]]\n",
       "[1] \"aytesrjld8: RT @episod: It's 2011. I work at Twitter. And so let's go kick some ass.\"\n",
       "\n",
       "[[17]]\n",
       "[1] \"vunguyenit_dn: RT @episod: It's 2011. I work at Twitter. And so let's go kick some ass.\"\n",
       "\n",
       "[[18]]\n",
       "[1] \"HaodongYang2ll: RT @episod: It's 2011. I work at Twitter. And so let's go kick some ass.\"\n"
      ]
     },
     "metadata": {},
     "output_type": "display_data"
    },
    {
     "data": {
      "text/html": [
       "<ol class=list-inline>\n",
       "\t<li>'800306753120313344'</li>\n",
       "\t<li>'785843034286153728'</li>\n",
       "\t<li>'771762434369609728'</li>\n",
       "\t<li>'245221231'</li>\n",
       "\t<li>'18474664'</li>\n",
       "\t<li>'2227774316'</li>\n",
       "\t<li>'16282333'</li>\n",
       "\t<li>'1542141392'</li>\n",
       "\t<li>'1802030628'</li>\n",
       "\t<li>'1797715334'</li>\n",
       "\t<li>'135939563'</li>\n",
       "\t<li>'113937727'</li>\n",
       "\t<li>'601769154'</li>\n",
       "\t<li>'17588321'</li>\n",
       "\t<li>'466787042'</li>\n",
       "\t<li>'132249227'</li>\n",
       "\t<li>'395175394'</li>\n",
       "\t<li>'381124736'</li>\n",
       "\t<li>'5689832'</li>\n",
       "\t<li>'153449734'</li>\n",
       "</ol>\n"
      ],
      "text/latex": [
       "\\begin{enumerate*}\n",
       "\\item '800306753120313344'\n",
       "\\item '785843034286153728'\n",
       "\\item '771762434369609728'\n",
       "\\item '245221231'\n",
       "\\item '18474664'\n",
       "\\item '2227774316'\n",
       "\\item '16282333'\n",
       "\\item '1542141392'\n",
       "\\item '1802030628'\n",
       "\\item '1797715334'\n",
       "\\item '135939563'\n",
       "\\item '113937727'\n",
       "\\item '601769154'\n",
       "\\item '17588321'\n",
       "\\item '466787042'\n",
       "\\item '132249227'\n",
       "\\item '395175394'\n",
       "\\item '381124736'\n",
       "\\item '5689832'\n",
       "\\item '153449734'\n",
       "\\end{enumerate*}\n"
      ],
      "text/markdown": [
       "1. '800306753120313344'\n",
       "2. '785843034286153728'\n",
       "3. '771762434369609728'\n",
       "4. '245221231'\n",
       "5. '18474664'\n",
       "6. '2227774316'\n",
       "7. '16282333'\n",
       "8. '1542141392'\n",
       "9. '1802030628'\n",
       "10. '1797715334'\n",
       "11. '135939563'\n",
       "12. '113937727'\n",
       "13. '601769154'\n",
       "14. '17588321'\n",
       "15. '466787042'\n",
       "16. '132249227'\n",
       "17. '395175394'\n",
       "18. '381124736'\n",
       "19. '5689832'\n",
       "20. '153449734'\n",
       "\n",
       "\n"
      ],
      "text/plain": [
       " [1] \"800306753120313344\" \"785843034286153728\" \"771762434369609728\"\n",
       " [4] \"245221231\"          \"18474664\"           \"2227774316\"        \n",
       " [7] \"16282333\"           \"1542141392\"         \"1802030628\"        \n",
       "[10] \"1797715334\"         \"135939563\"          \"113937727\"         \n",
       "[13] \"601769154\"          \"17588321\"           \"466787042\"         \n",
       "[16] \"132249227\"          \"395175394\"          \"381124736\"         \n",
       "[19] \"5689832\"            \"153449734\"         "
      ]
     },
     "metadata": {},
     "output_type": "display_data"
    }
   ],
   "source": [
    "#Getting the most recent retweets of a tweet\n",
    "retweets(\"21947795900469248\")\n",
    "st <-showStatus(\"21947795900469248\") \n",
    "\n",
    "#Getting the id of users who have retweeted \n",
    "retweeters(st$getId())"
   ]
  },
  {
   "cell_type": "code",
   "execution_count": 48,
   "metadata": {
    "collapsed": false
   },
   "outputs": [
    {
     "data": {
      "text/html": [
       "'TheNavneetNandi'"
      ],
      "text/latex": [
       "'TheNavneetNandi'"
      ],
      "text/markdown": [
       "'TheNavneetNandi'"
      ],
      "text/plain": [
       "[1] \"TheNavneetNandi\""
      ]
     },
     "metadata": {},
     "output_type": "display_data"
    },
    {
     "data": {
      "text/html": [
       "'test message'"
      ],
      "text/latex": [
       "'test message'"
      ],
      "text/markdown": [
       "'test message'"
      ],
      "text/plain": [
       "[1] \"test message\""
      ]
     },
     "metadata": {},
     "output_type": "display_data"
    }
   ],
   "source": [
    "st <- statusFactory$new(screenName=\"TheNavneetNandi\", text=\"test message\")\n",
    "st$getScreenName()\n",
    "st$getText()"
   ]
  },
  {
   "cell_type": "code",
   "execution_count": 49,
   "metadata": {
    "collapsed": true
   },
   "outputs": [],
   "source": [
    "#Automatically setting status\n",
    "ns <- updateStatus('my new status message')"
   ]
  },
  {
   "cell_type": "code",
   "execution_count": 50,
   "metadata": {
    "collapsed": false
   },
   "outputs": [
    {
     "data": {
      "text/html": [
       "TRUE"
      ],
      "text/latex": [
       "TRUE"
      ],
      "text/markdown": [
       "TRUE"
      ],
      "text/plain": [
       "[1] TRUE"
      ]
     },
     "metadata": {},
     "output_type": "display_data"
    }
   ],
   "source": [
    "#Deleting the status\n",
    "deleteStatus(ns)"
   ]
  },
  {
   "cell_type": "code",
   "execution_count": 51,
   "metadata": {
    "collapsed": false
   },
   "outputs": [
    {
     "data": {
      "text/html": [
       "'test'"
      ],
      "text/latex": [
       "'test'"
      ],
      "text/markdown": [
       "'test'"
      ],
      "text/plain": [
       "[1] \"test\""
      ]
     },
     "metadata": {},
     "output_type": "display_data"
    },
    {
     "data": {
      "text/html": [
       "'Joe Smith'"
      ],
      "text/latex": [
       "'Joe Smith'"
      ],
      "text/markdown": [
       "'Joe Smith'"
      ],
      "text/plain": [
       "[1] \"Joe Smith\""
      ]
     },
     "metadata": {},
     "output_type": "display_data"
    }
   ],
   "source": [
    "#Trying out user class\n",
    "us <- userFactory$new(screenName=\"test\", name=\"Joe Smith\")\n",
    "us$getScreenName() \n",
    "us$getName()"
   ]
  },
  {
   "cell_type": "code",
   "execution_count": null,
   "metadata": {
    "collapsed": true
   },
   "outputs": [],
   "source": []
  }
 ],
 "metadata": {
  "kernelspec": {
   "display_name": "R",
   "language": "R",
   "name": "ir"
  },
  "language_info": {
   "codemirror_mode": "r",
   "file_extension": ".r",
   "mimetype": "text/x-r-source",
   "name": "R",
   "pygments_lexer": "r",
   "version": "3.3.2"
  }
 },
 "nbformat": 4,
 "nbformat_minor": 2
}
