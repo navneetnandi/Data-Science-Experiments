{
 "cells": [
  {
   "cell_type": "code",
   "execution_count": 2,
   "metadata": {
    "collapsed": false
   },
   "outputs": [],
   "source": [
    "library(twitteR)\n",
    "library(maps)\n",
    "library(ggmap)\n",
    "library(ggplot2)"
   ]
  },
  {
   "cell_type": "code",
   "execution_count": 3,
   "metadata": {
    "collapsed": false
   },
   "outputs": [
    {
     "name": "stdout",
     "output_type": "stream",
     "text": [
      "[1] \"Using direct authentication\"\n"
     ]
    }
   ],
   "source": [
    "setup_twitter_oauth(\"FHlYnTq8c47N1553KDVm92Nbd\",\"MT0DdF9cfoBUWdx6TJbgBTde5MqR2iKth8fKMq52fwY55ifxmo\",\"771914996603379712-4CbtyfbOlsYxruMjYjZaQyOyErafznU\",\"ofkk5doXlKED3nPZJyQ2veY4etU7s1ILYihWM0Pe1GZE0\")"
   ]
  },
  {
   "cell_type": "markdown",
   "metadata": {},
   "source": [
    "In the next few cells I collect tweets pertaining to various aspects of the Superbowl"
   ]
  },
  {
   "cell_type": "code",
   "execution_count": null,
   "metadata": {
    "collapsed": false
   },
   "outputs": [],
   "source": [
    "#This is the 1st cell collecting a set of tweets\n",
    "searchTerm <- \"#tombrady\"\n",
    "tweets <- searchTwitter(searchTerm, n = 1000)\n",
    "tFrame <- twListToDF(tweets)\n",
    "users <- lookupUsers(tFrame$screenName)\n",
    "\n",
    "userLocFrame <- twListToDF(users)\n",
    "locations <- geocode(userLocFrame$location)\n",
    "locDF1 <- data.frame(locations$lon, locations$lat)"
   ]
  },
  {
   "cell_type": "code",
   "execution_count": 4,
   "metadata": {
    "collapsed": false
   },
   "outputs": [
    {
     "name": "stderr",
     "output_type": "stream",
     "text": [
      "Information from URL : http://maps.googleapis.com/maps/api/geocode/json?address=Venezuela.&sensor=false\n",
      "Information from URL : http://maps.googleapis.com/maps/api/geocode/json?address=Auckland%20City,%20New%20Zealand&sensor=false\n",
      "Information from URL : http://maps.googleapis.com/maps/api/geocode/json?address=Constan%C5%A3a,%20Rom%C3%A2nia&sensor=false\n",
      "Information from URL : http://maps.googleapis.com/maps/api/geocode/json?address=Mexico%20&sensor=false\n",
      "Information from URL : http://maps.googleapis.com/maps/api/geocode/json?address=The%20Sun&sensor=false\n",
      "Information from URL : http://maps.googleapis.com/maps/api/geocode/json?address=Dallas,%20Texas&sensor=false\n",
      "Information from URL : http://maps.googleapis.com/maps/api/geocode/json?address=San%20Antonio,%20TX&sensor=false\n"
     ]
    }
   ],
   "source": [
    "#This is the 2nd cell collecting a set of tweets\n",
    "searchTerm <- \"#superbowl\"\n",
    "tweets <- searchTwitter(searchTerm, n = 1000)\n",
    "tFrame <- twListToDF(tweets)\n",
    "users <- lookupUsers(tFrame$screenName)\n",
    "\n",
    "userLocFrame <- twListToDF(users)\n",
    "locations <- geocode(userLocFrame$location)\n",
    "locDF2 <- data.frame(locations$lon, locations$lat)"
   ]
  },
  {
   "cell_type": "code",
   "execution_count": null,
   "metadata": {
    "collapsed": false
   },
   "outputs": [],
   "source": [
    "#This is the 3rd cell collecting a set of tweets\n",
    "searchTerm <- \"#patriots\"\n",
    "tweets <- searchTwitter(searchTerm, n = 1000)\n",
    "tFrame <- twListToDF(tweets)\n",
    "users <- lookupUsers(tFrame$screenName)\n",
    "\n",
    "userLocFrame <- twListToDF(users)\n",
    "locations <- geocode(userLocFrame$location)\n",
    "locDF3 <- data.frame(locations$lon, locations$lat)"
   ]
  },
  {
   "cell_type": "code",
   "execution_count": null,
   "metadata": {
    "collapsed": true
   },
   "outputs": [],
   "source": [
    "#This is the 4th cell collecting a set of tweets\n",
    "searchTerm <- \"falcons\"\n",
    "tweets <- searchTwitter(searchTerm, n = 1000)\n",
    "tFrame <- twListToDF(tweets)\n",
    "users <- lookupUsers(tFrame$screenName)\n",
    "\n",
    "userLocFrame <- twListToDF(users)\n",
    "locations <- geocode(userLocFrame$location)\n",
    "locDF4 <- data.frame(locations$lon, locations$lat)"
   ]
  },
  {
   "cell_type": "code",
   "execution_count": null,
   "metadata": {
    "collapsed": true
   },
   "outputs": [],
   "source": [
    "#This is the 5th cell collecting a set of tweets\n",
    "searchTerm <- \"halftimeshow\"\n",
    "tweets <- searchTwitter(searchTerm, n = 1000)\n",
    "tFrame <- twListToDF(tweets)\n",
    "users <- lookupUsers(tFrame$screenName)\n",
    "\n",
    "userLocFrame <- twListToDF(users)\n",
    "locations <- geocode(userLocFrame$location)\n",
    "locDF5 <- data.frame(locations$lon, locations$lat)"
   ]
  },
  {
   "cell_type": "code",
   "execution_count": null,
   "metadata": {
    "collapsed": true
   },
   "outputs": [],
   "source": [
    "#This is the 6th cell collecting a set of tweets\n",
    "searchTerm <- \"mattryan\"\n",
    "tweets <- searchTwitter(searchTerm, n = 1000)\n",
    "tFrame <- twListToDF(tweets)\n",
    "users <- lookupUsers(tFrame$screenName)\n",
    "\n",
    "userLocFrame <- twListToDF(users)\n",
    "locations <- geocode(userLocFrame$location)\n",
    "locDF6 <- data.frame(locations$lon, locations$lat)"
   ]
  },
  {
   "cell_type": "markdown",
   "metadata": {},
   "source": [
    "In the next cell I merge the dataframes into one large dataframe containing the lat and lon"
   ]
  },
  {
   "cell_type": "code",
   "execution_count": null,
   "metadata": {
    "collapsed": true
   },
   "outputs": [],
   "source": [
    "#Merging the data frames\n",
    "merge12 <- rbind (rbind(locDF1, locDF2))\n",
    "merge34 <- rbind (rbind(locDF3, locDF4))\n",
    "merge56 <- rbind (rbind(locDF5, locDF6))\n",
    "merge1234 <- rbind(merge12, merge34)\n",
    "locDFMerge <- rbind(merge1234, merge56)"
   ]
  },
  {
   "cell_type": "code",
   "execution_count": null,
   "metadata": {
    "collapsed": true
   },
   "outputs": [],
   "source": [
    "write.csv(locDFMerge, file = \"TwitterDat.csv\")"
   ]
  },
  {
   "cell_type": "code",
   "execution_count": 6,
   "metadata": {
    "collapsed": true
   },
   "outputs": [],
   "source": [
    "adf <- read.csv(\"TwitterDat.csv\")"
   ]
  },
  {
   "cell_type": "code",
   "execution_count": 7,
   "metadata": {
    "collapsed": false
   },
   "outputs": [
    {
     "data": {
      "image/png": "[encoded data removed]",
      "text/plain": [
       "plot without title"
      ]
     },
     "metadata": {},
     "output_type": "display_data"
    }
   ],
   "source": [
    "# Plot points on the map to look at the density of tweets in different regions. This is not the final plot. This is just to get an idea of the distribution of tweets across the nation\n",
    "#This piece of code has been largely inspired by an example on the file \"RonJupyter\" on the official course webpage  \n",
    "map(\"state\", fill=TRUE, col=\"white\", bg=\"lightblue\", mar=c(0,0,0,0))\n",
    "points(adf$locations.lon,adf$locations.lat, col=\"darkgreen\", cex = 1.1, pch=19)"
   ]
  },
  {
   "cell_type": "code",
   "execution_count": null,
   "metadata": {
    "collapsed": false
   },
   "outputs": [],
   "source": [
    "myLoc <- geocode(c(\"New York\", \"Boston\", \"Philadelphia\" ,\"Washington DC\", \"Atlanta\", \"Orlando\", \"Miami\", \"Houston\", \"Dallas\", \"Chicago\", \"Denver\", \"Salt Lake City\" ,\"Seattle\", \"San Francisco\" ,\"Los Angeles\", \"Minneapolis\", \"Portland\", \"Detroit\", \"New Orleans\", \"Phoenix\"))"
   ]
  },
  {
   "cell_type": "code",
   "execution_count": 18,
   "metadata": {
    "collapsed": false
   },
   "outputs": [
    {
     "data": {
      "image/png": "[encoded data removed]",
      "text/plain": [
       "plot without title"
      ]
     },
     "metadata": {},
     "output_type": "display_data"
    }
   ],
   "source": [
    "#This is the final plot. Blobs of varying sizes show the density of tweets from that region\n",
    "map(\"state\", fill=TRUE, col=\"white\", bg=\"lightblue\", mar=c(0,0,0,0))\n",
    "points(myLoc$lon,myLoc$lat, col=\"brown\", cex = c(4.5, 5.5, 2, 1.7, 3.7, 1.6, 1.5, 2.3, 2.3, 3, 1.4, 1, 2.5, 2.5, 2.2, 1, 1, 1.5, 1.7, 1), pch=19)"
   ]
  }
 ],
 "metadata": {
  "kernelspec": {
   "display_name": "R",
   "language": "R",
   "name": "ir"
  },
  "language_info": {
   "codemirror_mode": "r",
   "file_extension": ".r",
   "mimetype": "text/x-r-source",
   "name": "R",
   "pygments_lexer": "r",
   "version": "3.3.2"
  }
 },
 "nbformat": 4,
 "nbformat_minor": 2
}
